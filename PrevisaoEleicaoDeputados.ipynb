{
 "cells": [
  {
   "cell_type": "code",
   "execution_count": 76,
   "metadata": {},
   "outputs": [],
   "source": [
    "import pandas as pd\n",
    "import numpy as np\n",
    "import seaborn as sns\n",
    "import matplotlib\n",
    "\n",
    "import matplotlib.pyplot as plt\n",
    "from scipy.stats import skew\n",
    "from scipy.stats.stats import pearsonr\n",
    "\n",
    "from sklearn import linear_model"
   ]
  },
  {
   "cell_type": "markdown",
   "metadata": {},
   "source": [
    "# Leitura de dados"
   ]
  },
  {
   "cell_type": "code",
   "execution_count": null,
   "metadata": {},
   "outputs": [],
   "source": [
    "train = pd.read_csv(\"dados_lab_classificacao/train.csv\")\n",
    "test = pd.read_csv(\"dados_lab_classificacao/test.csv\")\n",
    "\n",
    "train.info()"
   ]
  },
  {
   "cell_type": "markdown",
   "metadata": {},
   "source": [
    "# Descarte de colunas\n",
    "Avaliando as colunas, podemos perceber que algumas podem ser descartadas por não fazerem diferença na predição como nome do candidato, ocupação, cargo e estado civil."
   ]
  },
  {
   "cell_type": "code",
   "execution_count": 81,
   "metadata": {},
   "outputs": [
    {
     "data": {
      "text/html": [
       "<div>\n",
       "<style scoped>\n",
       "    .dataframe tbody tr th:only-of-type {\n",
       "        vertical-align: middle;\n",
       "    }\n",
       "\n",
       "    .dataframe tbody tr th {\n",
       "        vertical-align: top;\n",
       "    }\n",
       "\n",
       "    .dataframe thead th {\n",
       "        text-align: right;\n",
       "    }\n",
       "</style>\n",
       "<table border=\"1\" class=\"dataframe\">\n",
       "  <thead>\n",
       "    <tr style=\"text-align: right;\">\n",
       "      <th></th>\n",
       "      <th>ano</th>\n",
       "      <th>uf</th>\n",
       "      <th>partido</th>\n",
       "      <th>quantidade_doacoes</th>\n",
       "      <th>quantidade_doadores</th>\n",
       "      <th>total_receita</th>\n",
       "      <th>media_receita</th>\n",
       "      <th>recursos_de_outros_candidatos.comites</th>\n",
       "      <th>recursos_de_pessoas_fisicas</th>\n",
       "      <th>recursos_de_pessoas_juridicas</th>\n",
       "      <th>recursos_proprios</th>\n",
       "      <th>recursos_de_partido_politico</th>\n",
       "      <th>quantidade_despesas</th>\n",
       "      <th>quantidade_fornecedores</th>\n",
       "      <th>total_despesa</th>\n",
       "      <th>media_despesa</th>\n",
       "      <th>sexo</th>\n",
       "    </tr>\n",
       "  </thead>\n",
       "  <tbody>\n",
       "    <tr>\n",
       "      <th>0</th>\n",
       "      <td>2014</td>\n",
       "      <td>AC</td>\n",
       "      <td>PSOL</td>\n",
       "      <td>3</td>\n",
       "      <td>3</td>\n",
       "      <td>1580.00</td>\n",
       "      <td>526.67</td>\n",
       "      <td>0.00</td>\n",
       "      <td>1500.00</td>\n",
       "      <td>0.00</td>\n",
       "      <td>0.00</td>\n",
       "      <td>80.0</td>\n",
       "      <td>3</td>\n",
       "      <td>3</td>\n",
       "      <td>1580.00</td>\n",
       "      <td>526.67</td>\n",
       "      <td>MASCULINO</td>\n",
       "    </tr>\n",
       "    <tr>\n",
       "      <th>1</th>\n",
       "      <td>2014</td>\n",
       "      <td>AC</td>\n",
       "      <td>PSOL</td>\n",
       "      <td>5</td>\n",
       "      <td>5</td>\n",
       "      <td>3180.00</td>\n",
       "      <td>636.00</td>\n",
       "      <td>0.00</td>\n",
       "      <td>3100.00</td>\n",
       "      <td>0.00</td>\n",
       "      <td>0.00</td>\n",
       "      <td>80.0</td>\n",
       "      <td>6</td>\n",
       "      <td>5</td>\n",
       "      <td>3130.02</td>\n",
       "      <td>521.67</td>\n",
       "      <td>MASCULINO</td>\n",
       "    </tr>\n",
       "    <tr>\n",
       "      <th>2</th>\n",
       "      <td>2014</td>\n",
       "      <td>AC</td>\n",
       "      <td>PSB</td>\n",
       "      <td>40</td>\n",
       "      <td>38</td>\n",
       "      <td>336793.13</td>\n",
       "      <td>8419.83</td>\n",
       "      <td>1923.07</td>\n",
       "      <td>65700.00</td>\n",
       "      <td>154170.06</td>\n",
       "      <td>115000.00</td>\n",
       "      <td>0.0</td>\n",
       "      <td>145</td>\n",
       "      <td>139</td>\n",
       "      <td>326869.78</td>\n",
       "      <td>2254.27</td>\n",
       "      <td>MASCULINO</td>\n",
       "    </tr>\n",
       "    <tr>\n",
       "      <th>3</th>\n",
       "      <td>2014</td>\n",
       "      <td>AC</td>\n",
       "      <td>PT</td>\n",
       "      <td>29</td>\n",
       "      <td>29</td>\n",
       "      <td>156719.32</td>\n",
       "      <td>5404.11</td>\n",
       "      <td>39122.32</td>\n",
       "      <td>68783.84</td>\n",
       "      <td>17000.00</td>\n",
       "      <td>6813.16</td>\n",
       "      <td>25000.0</td>\n",
       "      <td>136</td>\n",
       "      <td>121</td>\n",
       "      <td>241016.07</td>\n",
       "      <td>1772.18</td>\n",
       "      <td>MASCULINO</td>\n",
       "    </tr>\n",
       "    <tr>\n",
       "      <th>4</th>\n",
       "      <td>2014</td>\n",
       "      <td>AC</td>\n",
       "      <td>PT</td>\n",
       "      <td>160</td>\n",
       "      <td>146</td>\n",
       "      <td>737073.00</td>\n",
       "      <td>4606.71</td>\n",
       "      <td>10000.00</td>\n",
       "      <td>347073.00</td>\n",
       "      <td>277000.00</td>\n",
       "      <td>78000.00</td>\n",
       "      <td>25000.0</td>\n",
       "      <td>518</td>\n",
       "      <td>354</td>\n",
       "      <td>567401.15</td>\n",
       "      <td>1095.37</td>\n",
       "      <td>MASCULINO</td>\n",
       "    </tr>\n",
       "  </tbody>\n",
       "</table>\n",
       "</div>"
      ],
      "text/plain": [
       "    ano  uf partido  quantidade_doacoes  quantidade_doadores  total_receita  \\\n",
       "0  2014  AC    PSOL                   3                    3        1580.00   \n",
       "1  2014  AC    PSOL                   5                    5        3180.00   \n",
       "2  2014  AC     PSB                  40                   38      336793.13   \n",
       "3  2014  AC      PT                  29                   29      156719.32   \n",
       "4  2014  AC      PT                 160                  146      737073.00   \n",
       "\n",
       "   media_receita  recursos_de_outros_candidatos.comites  \\\n",
       "0         526.67                                   0.00   \n",
       "1         636.00                                   0.00   \n",
       "2        8419.83                                1923.07   \n",
       "3        5404.11                               39122.32   \n",
       "4        4606.71                               10000.00   \n",
       "\n",
       "   recursos_de_pessoas_fisicas  recursos_de_pessoas_juridicas  \\\n",
       "0                      1500.00                           0.00   \n",
       "1                      3100.00                           0.00   \n",
       "2                     65700.00                      154170.06   \n",
       "3                     68783.84                       17000.00   \n",
       "4                    347073.00                      277000.00   \n",
       "\n",
       "   recursos_proprios  recursos_de_partido_politico  quantidade_despesas  \\\n",
       "0               0.00                          80.0                    3   \n",
       "1               0.00                          80.0                    6   \n",
       "2          115000.00                           0.0                  145   \n",
       "3            6813.16                       25000.0                  136   \n",
       "4           78000.00                       25000.0                  518   \n",
       "\n",
       "   quantidade_fornecedores  total_despesa  media_despesa       sexo  \n",
       "0                        3        1580.00         526.67  MASCULINO  \n",
       "1                        5        3130.02         521.67  MASCULINO  \n",
       "2                      139      326869.78        2254.27  MASCULINO  \n",
       "3                      121      241016.07        1772.18  MASCULINO  \n",
       "4                      354      567401.15        1095.37  MASCULINO  "
      ]
     },
     "execution_count": 81,
     "metadata": {},
     "output_type": "execute_result"
    }
   ],
   "source": [
    "train = train.drop(['nome','sequencial_candidato', 'cargo', 'grau','ocupacao', 'estado_civil'], axis=1)\n",
    "train.head()"
   ]
  },
  {
   "cell_type": "code",
   "execution_count": 164,
   "metadata": {},
   "outputs": [
    {
     "data": {
      "text/html": [
       "<div>\n",
       "<style scoped>\n",
       "    .dataframe tbody tr th:only-of-type {\n",
       "        vertical-align: middle;\n",
       "    }\n",
       "\n",
       "    .dataframe tbody tr th {\n",
       "        vertical-align: top;\n",
       "    }\n",
       "\n",
       "    .dataframe thead th {\n",
       "        text-align: right;\n",
       "    }\n",
       "</style>\n",
       "<table border=\"1\" class=\"dataframe\">\n",
       "  <thead>\n",
       "    <tr style=\"text-align: right;\">\n",
       "      <th></th>\n",
       "      <th>ano</th>\n",
       "      <th>sequencial_candidato</th>\n",
       "      <th>uf</th>\n",
       "      <th>partido</th>\n",
       "      <th>quantidade_doacoes</th>\n",
       "      <th>quantidade_doadores</th>\n",
       "      <th>total_receita</th>\n",
       "      <th>media_receita</th>\n",
       "      <th>recursos_de_outros_candidatos.comites</th>\n",
       "      <th>recursos_de_pessoas_fisicas</th>\n",
       "      <th>recursos_de_pessoas_juridicas</th>\n",
       "      <th>recursos_proprios</th>\n",
       "      <th>recursos_de_partido_politico</th>\n",
       "      <th>quantidade_despesas</th>\n",
       "      <th>quantidade_fornecedores</th>\n",
       "      <th>total_despesa</th>\n",
       "      <th>media_despesa</th>\n",
       "      <th>sexo</th>\n",
       "    </tr>\n",
       "  </thead>\n",
       "  <tbody>\n",
       "    <tr>\n",
       "      <th>0</th>\n",
       "      <td>2014</td>\n",
       "      <td>10000000135</td>\n",
       "      <td>AC</td>\n",
       "      <td>PSOL</td>\n",
       "      <td>3</td>\n",
       "      <td>3</td>\n",
       "      <td>1580.00</td>\n",
       "      <td>526.67</td>\n",
       "      <td>0.00</td>\n",
       "      <td>1500.00</td>\n",
       "      <td>0.00</td>\n",
       "      <td>0.00</td>\n",
       "      <td>80.0</td>\n",
       "      <td>3</td>\n",
       "      <td>3</td>\n",
       "      <td>1580.00</td>\n",
       "      <td>526.67</td>\n",
       "      <td>MASCULINO</td>\n",
       "    </tr>\n",
       "    <tr>\n",
       "      <th>1</th>\n",
       "      <td>2014</td>\n",
       "      <td>10000000142</td>\n",
       "      <td>AC</td>\n",
       "      <td>PSOL</td>\n",
       "      <td>5</td>\n",
       "      <td>5</td>\n",
       "      <td>3180.00</td>\n",
       "      <td>636.00</td>\n",
       "      <td>0.00</td>\n",
       "      <td>3100.00</td>\n",
       "      <td>0.00</td>\n",
       "      <td>0.00</td>\n",
       "      <td>80.0</td>\n",
       "      <td>6</td>\n",
       "      <td>5</td>\n",
       "      <td>3130.02</td>\n",
       "      <td>521.67</td>\n",
       "      <td>MASCULINO</td>\n",
       "    </tr>\n",
       "    <tr>\n",
       "      <th>2</th>\n",
       "      <td>2014</td>\n",
       "      <td>10000000158</td>\n",
       "      <td>AC</td>\n",
       "      <td>PSB</td>\n",
       "      <td>40</td>\n",
       "      <td>38</td>\n",
       "      <td>336793.13</td>\n",
       "      <td>8419.83</td>\n",
       "      <td>1923.07</td>\n",
       "      <td>65700.00</td>\n",
       "      <td>154170.06</td>\n",
       "      <td>115000.00</td>\n",
       "      <td>0.0</td>\n",
       "      <td>145</td>\n",
       "      <td>139</td>\n",
       "      <td>326869.78</td>\n",
       "      <td>2254.27</td>\n",
       "      <td>MASCULINO</td>\n",
       "    </tr>\n",
       "    <tr>\n",
       "      <th>3</th>\n",
       "      <td>2014</td>\n",
       "      <td>10000000161</td>\n",
       "      <td>AC</td>\n",
       "      <td>PT</td>\n",
       "      <td>29</td>\n",
       "      <td>29</td>\n",
       "      <td>156719.32</td>\n",
       "      <td>5404.11</td>\n",
       "      <td>39122.32</td>\n",
       "      <td>68783.84</td>\n",
       "      <td>17000.00</td>\n",
       "      <td>6813.16</td>\n",
       "      <td>25000.0</td>\n",
       "      <td>136</td>\n",
       "      <td>121</td>\n",
       "      <td>241016.07</td>\n",
       "      <td>1772.18</td>\n",
       "      <td>MASCULINO</td>\n",
       "    </tr>\n",
       "    <tr>\n",
       "      <th>4</th>\n",
       "      <td>2014</td>\n",
       "      <td>10000000163</td>\n",
       "      <td>AC</td>\n",
       "      <td>PT</td>\n",
       "      <td>160</td>\n",
       "      <td>146</td>\n",
       "      <td>737073.00</td>\n",
       "      <td>4606.71</td>\n",
       "      <td>10000.00</td>\n",
       "      <td>347073.00</td>\n",
       "      <td>277000.00</td>\n",
       "      <td>78000.00</td>\n",
       "      <td>25000.0</td>\n",
       "      <td>518</td>\n",
       "      <td>354</td>\n",
       "      <td>567401.15</td>\n",
       "      <td>1095.37</td>\n",
       "      <td>MASCULINO</td>\n",
       "    </tr>\n",
       "  </tbody>\n",
       "</table>\n",
       "</div>"
      ],
      "text/plain": [
       "    ano  sequencial_candidato  uf partido  quantidade_doacoes  \\\n",
       "0  2014           10000000135  AC    PSOL                   3   \n",
       "1  2014           10000000142  AC    PSOL                   5   \n",
       "2  2014           10000000158  AC     PSB                  40   \n",
       "3  2014           10000000161  AC      PT                  29   \n",
       "4  2014           10000000163  AC      PT                 160   \n",
       "\n",
       "   quantidade_doadores  total_receita  media_receita  \\\n",
       "0                    3        1580.00         526.67   \n",
       "1                    5        3180.00         636.00   \n",
       "2                   38      336793.13        8419.83   \n",
       "3                   29      156719.32        5404.11   \n",
       "4                  146      737073.00        4606.71   \n",
       "\n",
       "   recursos_de_outros_candidatos.comites  recursos_de_pessoas_fisicas  \\\n",
       "0                                   0.00                      1500.00   \n",
       "1                                   0.00                      3100.00   \n",
       "2                                1923.07                     65700.00   \n",
       "3                               39122.32                     68783.84   \n",
       "4                               10000.00                    347073.00   \n",
       "\n",
       "   recursos_de_pessoas_juridicas  recursos_proprios  \\\n",
       "0                           0.00               0.00   \n",
       "1                           0.00               0.00   \n",
       "2                      154170.06          115000.00   \n",
       "3                       17000.00            6813.16   \n",
       "4                      277000.00           78000.00   \n",
       "\n",
       "   recursos_de_partido_politico  quantidade_despesas  quantidade_fornecedores  \\\n",
       "0                          80.0                    3                        3   \n",
       "1                          80.0                    6                        5   \n",
       "2                           0.0                  145                      139   \n",
       "3                       25000.0                  136                      121   \n",
       "4                       25000.0                  518                      354   \n",
       "\n",
       "   total_despesa  media_despesa       sexo  \n",
       "0        1580.00         526.67  MASCULINO  \n",
       "1        3130.02         521.67  MASCULINO  \n",
       "2      326869.78        2254.27  MASCULINO  \n",
       "3      241016.07        1772.18  MASCULINO  \n",
       "4      567401.15        1095.37  MASCULINO  "
      ]
     },
     "execution_count": 164,
     "metadata": {},
     "output_type": "execute_result"
    }
   ],
   "source": [
    "test = pd.read_csv(\"dados_lab_classificacao/test.csv\")\n",
    "test = test.drop(['nome', 'cargo', 'grau','ocupacao', 'estado_civil'], axis=1)\n",
    "test.head()"
   ]
  },
  {
   "cell_type": "markdown",
   "metadata": {},
   "source": [
    "# Correlação\n",
    "Verificaremos agora a correlação das colunas restantes, a fim de identificar correlações fortes que nos permitam eliminar algumas delas."
   ]
  },
  {
   "cell_type": "code",
   "execution_count": 82,
   "metadata": {},
   "outputs": [
    {
     "data": {
      "text/plain": [
       "<matplotlib.axes._subplots.AxesSubplot at 0x1fd37f2f5c0>"
      ]
     },
     "execution_count": 82,
     "metadata": {},
     "output_type": "execute_result"
    },
    {
     "data": {
      "image/png": "[encoded data removed]",
      "text/plain": [
       "<Figure size 864x432 with 2 Axes>"
      ]
     },
     "metadata": {},
     "output_type": "display_data"
    }
   ],
   "source": [
    "sns.heatmap(train.corr(), vmax=0.75, center=0, square=True, linewidths=.5, cbar_kws={\"shrink\": .5})"
   ]
  },
  {
   "cell_type": "markdown",
   "metadata": {},
   "source": [
    "Avaliando o heat map, podemos perceber que as variáveis quantidade_doacoes e quantidade_doadores têm correlação forte entre si (próximo a .7), podendo eliminar uma delas. Também as variáveis total_receita, recursos_de_pessoas_juridicas, quantidade_despesas e quantidade_fornecedores possuem forte correlação com total_despesa (próximo a 0.75), podendo ficar apenas com total_despesa."
   ]
  },
  {
   "cell_type": "code",
   "execution_count": 83,
   "metadata": {},
   "outputs": [],
   "source": [
    "train = train.drop(['quantidade_doadores', 'total_receita','recursos_de_pessoas_juridicas', 'quantidade_despesas', 'quantidade_fornecedores'], axis=1)"
   ]
  },
  {
   "cell_type": "code",
   "execution_count": 165,
   "metadata": {},
   "outputs": [],
   "source": [
    "test = test.drop(['quantidade_doadores', 'total_receita','recursos_de_pessoas_juridicas', 'quantidade_despesas', 'quantidade_fornecedores'], axis=1)"
   ]
  },
  {
   "cell_type": "code",
   "execution_count": 84,
   "metadata": {},
   "outputs": [
    {
     "data": {
      "text/html": [
       "<div>\n",
       "<style scoped>\n",
       "    .dataframe tbody tr th:only-of-type {\n",
       "        vertical-align: middle;\n",
       "    }\n",
       "\n",
       "    .dataframe tbody tr th {\n",
       "        vertical-align: top;\n",
       "    }\n",
       "\n",
       "    .dataframe thead th {\n",
       "        text-align: right;\n",
       "    }\n",
       "</style>\n",
       "<table border=\"1\" class=\"dataframe\">\n",
       "  <thead>\n",
       "    <tr style=\"text-align: right;\">\n",
       "      <th></th>\n",
       "      <th>ano</th>\n",
       "      <th>uf</th>\n",
       "      <th>partido</th>\n",
       "      <th>quantidade_doacoes</th>\n",
       "      <th>media_receita</th>\n",
       "      <th>recursos_de_outros_candidatos.comites</th>\n",
       "      <th>recursos_de_pessoas_fisicas</th>\n",
       "      <th>recursos_proprios</th>\n",
       "      <th>recursos_de_partido_politico</th>\n",
       "      <th>total_despesa</th>\n",
       "      <th>media_despesa</th>\n",
       "      <th>sexo</th>\n",
       "      <th>situacao</th>\n",
       "    </tr>\n",
       "  </thead>\n",
       "  <tbody>\n",
       "    <tr>\n",
       "      <th>0</th>\n",
       "      <td>2006</td>\n",
       "      <td>AP</td>\n",
       "      <td>PT</td>\n",
       "      <td>6</td>\n",
       "      <td>2766.67</td>\n",
       "      <td>0.0</td>\n",
       "      <td>9000.0</td>\n",
       "      <td>1300.0</td>\n",
       "      <td>0.0</td>\n",
       "      <td>16583.60</td>\n",
       "      <td>1184.54</td>\n",
       "      <td>MASCULINO</td>\n",
       "      <td>nao_eleito</td>\n",
       "    </tr>\n",
       "    <tr>\n",
       "      <th>1</th>\n",
       "      <td>2006</td>\n",
       "      <td>RO</td>\n",
       "      <td>PT</td>\n",
       "      <td>13</td>\n",
       "      <td>1755.85</td>\n",
       "      <td>6625.0</td>\n",
       "      <td>15000.0</td>\n",
       "      <td>201.0</td>\n",
       "      <td>0.0</td>\n",
       "      <td>20325.99</td>\n",
       "      <td>846.92</td>\n",
       "      <td>FEMININO</td>\n",
       "      <td>nao_eleito</td>\n",
       "    </tr>\n",
       "    <tr>\n",
       "      <th>2</th>\n",
       "      <td>2006</td>\n",
       "      <td>AP</td>\n",
       "      <td>PT</td>\n",
       "      <td>17</td>\n",
       "      <td>9301.22</td>\n",
       "      <td>2250.0</td>\n",
       "      <td>34150.0</td>\n",
       "      <td>59500.0</td>\n",
       "      <td>0.0</td>\n",
       "      <td>146011.70</td>\n",
       "      <td>1187.09</td>\n",
       "      <td>FEMININO</td>\n",
       "      <td>eleito</td>\n",
       "    </tr>\n",
       "    <tr>\n",
       "      <th>3</th>\n",
       "      <td>2006</td>\n",
       "      <td>MS</td>\n",
       "      <td>PRONA</td>\n",
       "      <td>6</td>\n",
       "      <td>500.19</td>\n",
       "      <td>0.0</td>\n",
       "      <td>1150.0</td>\n",
       "      <td>750.0</td>\n",
       "      <td>0.0</td>\n",
       "      <td>3001.12</td>\n",
       "      <td>375.14</td>\n",
       "      <td>MASCULINO</td>\n",
       "      <td>nao_eleito</td>\n",
       "    </tr>\n",
       "    <tr>\n",
       "      <th>4</th>\n",
       "      <td>2006</td>\n",
       "      <td>RO</td>\n",
       "      <td>PT</td>\n",
       "      <td>48</td>\n",
       "      <td>2496.25</td>\n",
       "      <td>0.0</td>\n",
       "      <td>50878.0</td>\n",
       "      <td>68942.0</td>\n",
       "      <td>0.0</td>\n",
       "      <td>116416.64</td>\n",
       "      <td>875.31</td>\n",
       "      <td>MASCULINO</td>\n",
       "      <td>eleito</td>\n",
       "    </tr>\n",
       "  </tbody>\n",
       "</table>\n",
       "</div>"
      ],
      "text/plain": [
       "    ano  uf partido  quantidade_doacoes  media_receita  \\\n",
       "0  2006  AP      PT                   6        2766.67   \n",
       "1  2006  RO      PT                  13        1755.85   \n",
       "2  2006  AP      PT                  17        9301.22   \n",
       "3  2006  MS   PRONA                   6         500.19   \n",
       "4  2006  RO      PT                  48        2496.25   \n",
       "\n",
       "   recursos_de_outros_candidatos.comites  recursos_de_pessoas_fisicas  \\\n",
       "0                                    0.0                       9000.0   \n",
       "1                                 6625.0                      15000.0   \n",
       "2                                 2250.0                      34150.0   \n",
       "3                                    0.0                       1150.0   \n",
       "4                                    0.0                      50878.0   \n",
       "\n",
       "   recursos_proprios  recursos_de_partido_politico  total_despesa  \\\n",
       "0             1300.0                           0.0       16583.60   \n",
       "1              201.0                           0.0       20325.99   \n",
       "2            59500.0                           0.0      146011.70   \n",
       "3              750.0                           0.0        3001.12   \n",
       "4            68942.0                           0.0      116416.64   \n",
       "\n",
       "   media_despesa       sexo    situacao  \n",
       "0        1184.54  MASCULINO  nao_eleito  \n",
       "1         846.92   FEMININO  nao_eleito  \n",
       "2        1187.09   FEMININO      eleito  \n",
       "3         375.14  MASCULINO  nao_eleito  \n",
       "4         875.31  MASCULINO      eleito  "
      ]
     },
     "execution_count": 84,
     "metadata": {},
     "output_type": "execute_result"
    }
   ],
   "source": [
    "train.head()\n",
    "#test.head()"
   ]
  },
  {
   "cell_type": "markdown",
   "metadata": {},
   "source": [
    "# Gerando a descrição dos dados e a soma dos valores NA\n",
    "Como vemos, não falta nenhum dado dos que serão utilizados, logo, não precisamos tratar os valores ausentes."
   ]
  },
  {
   "cell_type": "code",
   "execution_count": 85,
   "metadata": {},
   "outputs": [
    {
     "name": "stdout",
     "output_type": "stream",
     "text": [
      "               ano  quantidade_doacoes  media_receita  \\\n",
      "count  7622.000000         7622.000000    7622.000000   \n",
      "mean   2008.120703           27.673839    5456.131027   \n",
      "std       1.996485          116.511888   14003.313610   \n",
      "min    2006.000000            1.000000       0.000000   \n",
      "25%    2006.000000            4.000000     625.000000   \n",
      "50%    2010.000000            9.000000    1537.775000   \n",
      "75%    2010.000000           23.000000    4666.247500   \n",
      "max    2010.000000         6997.000000  500180.000000   \n",
      "\n",
      "       recursos_de_outros_candidatos.comites  recursos_de_pessoas_fisicas  \\\n",
      "count                           7.622000e+03                 7.622000e+03   \n",
      "mean                            1.965750e+04                 2.315820e+04   \n",
      "std                             1.041636e+05                 6.689215e+04   \n",
      "min                             0.000000e+00                 0.000000e+00   \n",
      "25%                             0.000000e+00                 0.000000e+00   \n",
      "50%                             1.125000e+03                 1.350000e+03   \n",
      "75%                             6.196375e+03                 1.574625e+04   \n",
      "max                             3.664205e+06                 1.403049e+06   \n",
      "\n",
      "       recursos_proprios  recursos_de_partido_politico  total_despesa  \\\n",
      "count       7.622000e+03                  7.622000e+03   7.622000e+03   \n",
      "mean        2.577600e+04                  2.541136e+04   1.554507e+05   \n",
      "std         1.495312e+05                  1.308613e+05   3.901120e+05   \n",
      "min         0.000000e+00                  0.000000e+00   0.000000e+00   \n",
      "25%         0.000000e+00                  0.000000e+00   2.689600e+03   \n",
      "50%         1.121600e+03                  0.000000e+00   1.226735e+04   \n",
      "75%         9.600000e+03                  0.000000e+00   9.633950e+04   \n",
      "max         5.525600e+06                  2.745700e+06   4.989491e+06   \n",
      "\n",
      "       media_despesa  \n",
      "count    7622.000000  \n",
      "mean     1346.643975  \n",
      "std      6164.552399  \n",
      "min         0.000000  \n",
      "25%       352.500000  \n",
      "50%       711.365000  \n",
      "75%      1399.812500  \n",
      "max    500177.000000  \n"
     ]
    },
    {
     "data": {
      "text/plain": [
       "ano                                      0\n",
       "uf                                       0\n",
       "partido                                  0\n",
       "quantidade_doacoes                       0\n",
       "media_receita                            0\n",
       "recursos_de_outros_candidatos.comites    0\n",
       "recursos_de_pessoas_fisicas              0\n",
       "recursos_proprios                        0\n",
       "recursos_de_partido_politico             0\n",
       "total_despesa                            0\n",
       "media_despesa                            0\n",
       "sexo                                     0\n",
       "situacao                                 0\n",
       "dtype: int64"
      ]
     },
     "execution_count": 85,
     "metadata": {},
     "output_type": "execute_result"
    }
   ],
   "source": [
    "print(train.describe())\n",
    "train.isna().sum()"
   ]
  },
  {
   "cell_type": "markdown",
   "metadata": {},
   "source": [
    "# Verificando a necessidade de normalização.\n",
    "Plotando as distribuições das variáveis restantes não categóricas (forma original e já normalizada com log). Vemos que usando log, o formato das distribuições fica mais parecido com a normal."
   ]
  },
  {
   "cell_type": "code",
   "execution_count": 86,
   "metadata": {},
   "outputs": [
    {
     "data": {
      "image/png": "[encoded data removed]",
      "text/plain": [
       "<Figure size 864x432 with 2 Axes>"
      ]
     },
     "metadata": {},
     "output_type": "display_data"
    },
    {
     "data": {
      "image/png": "[encoded data removed]",
      "text/plain": [
       "<Figure size 864x432 with 2 Axes>"
      ]
     },
     "metadata": {},
     "output_type": "display_data"
    },
    {
     "data": {
      "image/png": "[encoded data removed]",
      "text/plain": [
       "<Figure size 864x432 with 2 Axes>"
      ]
     },
     "metadata": {},
     "output_type": "display_data"
    },
    {
     "data": {
      "image/png": "[encoded data removed]",
      "text/plain": [
       "<Figure size 864x432 with 2 Axes>"
      ]
     },
     "metadata": {},
     "output_type": "display_data"
    },
    {
     "data": {
      "image/png": "[encoded data removed]",
      "text/plain": [
       "<Figure size 864x432 with 2 Axes>"
      ]
     },
     "metadata": {},
     "output_type": "display_data"
    },
    {
     "data": {
      "image/png": "[encoded data removed]",
      "text/plain": [
       "<Figure size 864x432 with 2 Axes>"
      ]
     },
     "metadata": {},
     "output_type": "display_data"
    },
    {
     "data": {
      "image/png": "[encoded data removed]",
      "text/plain": [
       "<Figure size 864x432 with 2 Axes>"
      ]
     },
     "metadata": {},
     "output_type": "display_data"
    },
    {
     "data": {
      "image/png": "[encoded data removed]",
      "text/plain": [
       "<Figure size 864x432 with 2 Axes>"
      ]
     },
     "metadata": {},
     "output_type": "display_data"
    },
    {
     "data": {
      "image/png": "[encoded data removed]",
      "text/plain": [
       "<Figure size 864x432 with 2 Axes>"
      ]
     },
     "metadata": {},
     "output_type": "display_data"
    }
   ],
   "source": [
    "df_all = pd.DataFrame(train)\n",
    "for column in df_all:\n",
    "    if df_all[column].dtype != 'object':\n",
    "        matplotlib.rcParams['figure.figsize'] = (12.0, 6.0)\n",
    "        train_hists = pd.DataFrame({\"train:\"+column:train[column], \"train: log(\"+column+\" + 1)\":np.log1p(train[column])})\n",
    "        train_hists.hist()\n",
    "        plt.show()"
   ]
  },
  {
   "cell_type": "code",
   "execution_count": 87,
   "metadata": {},
   "outputs": [
    {
     "data": {
      "text/html": [
       "<div>\n",
       "<style scoped>\n",
       "    .dataframe tbody tr th:only-of-type {\n",
       "        vertical-align: middle;\n",
       "    }\n",
       "\n",
       "    .dataframe tbody tr th {\n",
       "        vertical-align: top;\n",
       "    }\n",
       "\n",
       "    .dataframe thead th {\n",
       "        text-align: right;\n",
       "    }\n",
       "</style>\n",
       "<table border=\"1\" class=\"dataframe\">\n",
       "  <thead>\n",
       "    <tr style=\"text-align: right;\">\n",
       "      <th></th>\n",
       "      <th>ano</th>\n",
       "      <th>situacao</th>\n",
       "    </tr>\n",
       "  </thead>\n",
       "  <tbody>\n",
       "    <tr>\n",
       "      <th>0</th>\n",
       "      <td>2006</td>\n",
       "      <td>nao_eleito</td>\n",
       "    </tr>\n",
       "    <tr>\n",
       "      <th>1</th>\n",
       "      <td>2006</td>\n",
       "      <td>nao_eleito</td>\n",
       "    </tr>\n",
       "    <tr>\n",
       "      <th>2</th>\n",
       "      <td>2006</td>\n",
       "      <td>eleito</td>\n",
       "    </tr>\n",
       "    <tr>\n",
       "      <th>3</th>\n",
       "      <td>2006</td>\n",
       "      <td>nao_eleito</td>\n",
       "    </tr>\n",
       "    <tr>\n",
       "      <th>4</th>\n",
       "      <td>2006</td>\n",
       "      <td>eleito</td>\n",
       "    </tr>\n",
       "  </tbody>\n",
       "</table>\n",
       "</div>"
      ],
      "text/plain": [
       "    ano    situacao\n",
       "0  2006  nao_eleito\n",
       "1  2006  nao_eleito\n",
       "2  2006      eleito\n",
       "3  2006  nao_eleito\n",
       "4  2006      eleito"
      ]
     },
     "execution_count": 87,
     "metadata": {},
     "output_type": "execute_result"
    }
   ],
   "source": [
    "#separando as features da variavel alvo\n",
    "train_feats = train.loc[:,'ano':'sexo']\n",
    "train_target =  train[['ano','situacao']]\n",
    "train_target.head()"
   ]
  },
  {
   "cell_type": "code",
   "execution_count": 88,
   "metadata": {},
   "outputs": [],
   "source": [
    "#log transform skewed numeric features (train):\n",
    "numeric_feats = train_feats.dtypes[train_feats.dtypes != \"object\"].index\n",
    "\n",
    "skewed_feats = train[numeric_feats].apply(lambda x: skew(x)) #compute skewness\n",
    "skewed_feats = skewed_feats[skewed_feats > 0.75]\n",
    "skewed_feats = skewed_feats.index\n",
    "\n",
    "train_feats[skewed_feats] = np.log1p(train_feats[skewed_feats])\n",
    "\n",
    "#dummyfying\n",
    "train_feats = pd.get_dummies(train_feats)\n",
    "\n",
    "#log transform skewed numeric features (test):\n",
    "numeric_feats = test.dtypes[test.dtypes != \"object\"].index\n",
    "\n",
    "skewed_feats = test[numeric_feats].apply(lambda x: skew(x)) #compute skewness\n",
    "skewed_feats = skewed_feats[skewed_feats > 0.75]\n",
    "skewed_feats = skewed_feats.index\n",
    "\n",
    "test[skewed_feats] = np.log1p(test[skewed_feats])\n",
    "\n",
    "#dummyfying\n",
    "test = pd.get_dummies(test)"
   ]
  },
  {
   "cell_type": "code",
   "execution_count": 167,
   "metadata": {},
   "outputs": [
    {
     "data": {
      "text/html": [
       "<div>\n",
       "<style scoped>\n",
       "    .dataframe tbody tr th:only-of-type {\n",
       "        vertical-align: middle;\n",
       "    }\n",
       "\n",
       "    .dataframe tbody tr th {\n",
       "        vertical-align: top;\n",
       "    }\n",
       "\n",
       "    .dataframe thead th {\n",
       "        text-align: right;\n",
       "    }\n",
       "</style>\n",
       "<table border=\"1\" class=\"dataframe\">\n",
       "  <thead>\n",
       "    <tr style=\"text-align: right;\">\n",
       "      <th></th>\n",
       "      <th>ano</th>\n",
       "      <th>sequencial_candidato</th>\n",
       "      <th>quantidade_doacoes</th>\n",
       "      <th>media_receita</th>\n",
       "      <th>recursos_de_outros_candidatos.comites</th>\n",
       "      <th>recursos_de_pessoas_fisicas</th>\n",
       "      <th>recursos_proprios</th>\n",
       "      <th>recursos_de_partido_politico</th>\n",
       "      <th>total_despesa</th>\n",
       "      <th>media_despesa</th>\n",
       "      <th>...</th>\n",
       "      <th>partido_PSOL</th>\n",
       "      <th>partido_PSTU</th>\n",
       "      <th>partido_PT</th>\n",
       "      <th>partido_PT do B</th>\n",
       "      <th>partido_PTB</th>\n",
       "      <th>partido_PTC</th>\n",
       "      <th>partido_PTN</th>\n",
       "      <th>partido_PV</th>\n",
       "      <th>sexo_FEMININO</th>\n",
       "      <th>sexo_MASCULINO</th>\n",
       "    </tr>\n",
       "  </thead>\n",
       "  <tbody>\n",
       "    <tr>\n",
       "      <th>0</th>\n",
       "      <td>2014</td>\n",
       "      <td>10000000135</td>\n",
       "      <td>1.386294</td>\n",
       "      <td>6.268471</td>\n",
       "      <td>0.000000</td>\n",
       "      <td>7.313887</td>\n",
       "      <td>0.000000</td>\n",
       "      <td>4.394449</td>\n",
       "      <td>7.365813</td>\n",
       "      <td>6.268471</td>\n",
       "      <td>...</td>\n",
       "      <td>1</td>\n",
       "      <td>0</td>\n",
       "      <td>0</td>\n",
       "      <td>0</td>\n",
       "      <td>0</td>\n",
       "      <td>0</td>\n",
       "      <td>0</td>\n",
       "      <td>0</td>\n",
       "      <td>0</td>\n",
       "      <td>1</td>\n",
       "    </tr>\n",
       "    <tr>\n",
       "      <th>1</th>\n",
       "      <td>2014</td>\n",
       "      <td>10000000142</td>\n",
       "      <td>1.791759</td>\n",
       "      <td>6.456770</td>\n",
       "      <td>0.000000</td>\n",
       "      <td>8.039480</td>\n",
       "      <td>0.000000</td>\n",
       "      <td>4.394449</td>\n",
       "      <td>8.049114</td>\n",
       "      <td>6.258950</td>\n",
       "      <td>...</td>\n",
       "      <td>1</td>\n",
       "      <td>0</td>\n",
       "      <td>0</td>\n",
       "      <td>0</td>\n",
       "      <td>0</td>\n",
       "      <td>0</td>\n",
       "      <td>0</td>\n",
       "      <td>0</td>\n",
       "      <td>0</td>\n",
       "      <td>1</td>\n",
       "    </tr>\n",
       "    <tr>\n",
       "      <th>2</th>\n",
       "      <td>2014</td>\n",
       "      <td>10000000158</td>\n",
       "      <td>3.713572</td>\n",
       "      <td>9.038464</td>\n",
       "      <td>7.562198</td>\n",
       "      <td>11.092869</td>\n",
       "      <td>11.652696</td>\n",
       "      <td>0.000000</td>\n",
       "      <td>12.697320</td>\n",
       "      <td>7.721025</td>\n",
       "      <td>...</td>\n",
       "      <td>0</td>\n",
       "      <td>0</td>\n",
       "      <td>0</td>\n",
       "      <td>0</td>\n",
       "      <td>0</td>\n",
       "      <td>0</td>\n",
       "      <td>0</td>\n",
       "      <td>0</td>\n",
       "      <td>0</td>\n",
       "      <td>1</td>\n",
       "    </tr>\n",
       "    <tr>\n",
       "      <th>3</th>\n",
       "      <td>2014</td>\n",
       "      <td>10000000161</td>\n",
       "      <td>3.401197</td>\n",
       "      <td>8.595100</td>\n",
       "      <td>10.574474</td>\n",
       "      <td>11.138739</td>\n",
       "      <td>8.826758</td>\n",
       "      <td>10.126671</td>\n",
       "      <td>12.392623</td>\n",
       "      <td>7.480530</td>\n",
       "      <td>...</td>\n",
       "      <td>0</td>\n",
       "      <td>0</td>\n",
       "      <td>1</td>\n",
       "      <td>0</td>\n",
       "      <td>0</td>\n",
       "      <td>0</td>\n",
       "      <td>0</td>\n",
       "      <td>0</td>\n",
       "      <td>0</td>\n",
       "      <td>1</td>\n",
       "    </tr>\n",
       "    <tr>\n",
       "      <th>4</th>\n",
       "      <td>2014</td>\n",
       "      <td>10000000163</td>\n",
       "      <td>5.081404</td>\n",
       "      <td>8.435486</td>\n",
       "      <td>9.210440</td>\n",
       "      <td>12.757293</td>\n",
       "      <td>11.264477</td>\n",
       "      <td>10.126671</td>\n",
       "      <td>13.248824</td>\n",
       "      <td>6.999760</td>\n",
       "      <td>...</td>\n",
       "      <td>0</td>\n",
       "      <td>0</td>\n",
       "      <td>1</td>\n",
       "      <td>0</td>\n",
       "      <td>0</td>\n",
       "      <td>0</td>\n",
       "      <td>0</td>\n",
       "      <td>0</td>\n",
       "      <td>0</td>\n",
       "      <td>1</td>\n",
       "    </tr>\n",
       "  </tbody>\n",
       "</table>\n",
       "<p>5 rows × 66 columns</p>\n",
       "</div>"
      ],
      "text/plain": [
       "    ano  sequencial_candidato  quantidade_doacoes  media_receita  \\\n",
       "0  2014           10000000135            1.386294       6.268471   \n",
       "1  2014           10000000142            1.791759       6.456770   \n",
       "2  2014           10000000158            3.713572       9.038464   \n",
       "3  2014           10000000161            3.401197       8.595100   \n",
       "4  2014           10000000163            5.081404       8.435486   \n",
       "\n",
       "   recursos_de_outros_candidatos.comites  recursos_de_pessoas_fisicas  \\\n",
       "0                               0.000000                     7.313887   \n",
       "1                               0.000000                     8.039480   \n",
       "2                               7.562198                    11.092869   \n",
       "3                              10.574474                    11.138739   \n",
       "4                               9.210440                    12.757293   \n",
       "\n",
       "   recursos_proprios  recursos_de_partido_politico  total_despesa  \\\n",
       "0           0.000000                      4.394449       7.365813   \n",
       "1           0.000000                      4.394449       8.049114   \n",
       "2          11.652696                      0.000000      12.697320   \n",
       "3           8.826758                     10.126671      12.392623   \n",
       "4          11.264477                     10.126671      13.248824   \n",
       "\n",
       "   media_despesa       ...        partido_PSOL  partido_PSTU  partido_PT  \\\n",
       "0       6.268471       ...                   1             0           0   \n",
       "1       6.258950       ...                   1             0           0   \n",
       "2       7.721025       ...                   0             0           0   \n",
       "3       7.480530       ...                   0             0           1   \n",
       "4       6.999760       ...                   0             0           1   \n",
       "\n",
       "   partido_PT do B  partido_PTB  partido_PTC  partido_PTN  partido_PV  \\\n",
       "0                0            0            0            0           0   \n",
       "1                0            0            0            0           0   \n",
       "2                0            0            0            0           0   \n",
       "3                0            0            0            0           0   \n",
       "4                0            0            0            0           0   \n",
       "\n",
       "   sexo_FEMININO  sexo_MASCULINO  \n",
       "0              0               1  \n",
       "1              0               1  \n",
       "2              0               1  \n",
       "3              0               1  \n",
       "4              0               1  \n",
       "\n",
       "[5 rows x 66 columns]"
      ]
     },
     "execution_count": 167,
     "metadata": {},
     "output_type": "execute_result"
    }
   ],
   "source": [
    "test.head()"
   ]
  },
  {
   "cell_type": "markdown",
   "metadata": {},
   "source": [
    "## Dividindo os dados em treino (2006), validation (2010), feat e alvo."
   ]
  },
  {
   "cell_type": "code",
   "execution_count": 89,
   "metadata": {},
   "outputs": [],
   "source": [
    "#train\n",
    "train_X = train_feats.loc[train_feats['ano'] == 2006]\n",
    "train_X = train_X.drop(['ano'],axis=1)\n",
    "train_Y = train_target.loc[train_feats['ano'] == 2006]\n",
    "train_Y = train_Y.drop(['ano'],axis=1)\n",
    "\n",
    "#validation\n",
    "validation_X = train_feats.loc[train_feats['ano'] == 2010]\n",
    "validation_X =validation_X.drop(['ano'],axis=1)\n",
    "validation_Y = train_target.loc[train_feats['ano'] == 2010]\n",
    "validation_Y = validation_Y.drop(['ano'],axis=1)\n",
    "\n",
    "#test \n",
    "test = test.drop(['ano'],axis=1)"
   ]
  },
  {
   "cell_type": "code",
   "execution_count": 90,
   "metadata": {},
   "outputs": [
    {
     "data": {
      "text/html": [
       "<div>\n",
       "<style scoped>\n",
       "    .dataframe tbody tr th:only-of-type {\n",
       "        vertical-align: middle;\n",
       "    }\n",
       "\n",
       "    .dataframe tbody tr th {\n",
       "        vertical-align: top;\n",
       "    }\n",
       "\n",
       "    .dataframe thead th {\n",
       "        text-align: right;\n",
       "    }\n",
       "</style>\n",
       "<table border=\"1\" class=\"dataframe\">\n",
       "  <thead>\n",
       "    <tr style=\"text-align: right;\">\n",
       "      <th></th>\n",
       "      <th>quantidade_doacoes</th>\n",
       "      <th>media_receita</th>\n",
       "      <th>recursos_de_outros_candidatos.comites</th>\n",
       "      <th>recursos_de_pessoas_fisicas</th>\n",
       "      <th>recursos_proprios</th>\n",
       "      <th>recursos_de_partido_politico</th>\n",
       "      <th>total_despesa</th>\n",
       "      <th>media_despesa</th>\n",
       "      <th>uf_AC</th>\n",
       "      <th>uf_AL</th>\n",
       "      <th>...</th>\n",
       "      <th>partido_PSOL</th>\n",
       "      <th>partido_PSTU</th>\n",
       "      <th>partido_PT</th>\n",
       "      <th>partido_PT do B</th>\n",
       "      <th>partido_PTB</th>\n",
       "      <th>partido_PTC</th>\n",
       "      <th>partido_PTN</th>\n",
       "      <th>partido_PV</th>\n",
       "      <th>sexo_FEMININO</th>\n",
       "      <th>sexo_MASCULINO</th>\n",
       "    </tr>\n",
       "  </thead>\n",
       "  <tbody>\n",
       "    <tr>\n",
       "      <th>0</th>\n",
       "      <td>1.945910</td>\n",
       "      <td>7.925761</td>\n",
       "      <td>0.000000</td>\n",
       "      <td>9.105091</td>\n",
       "      <td>7.170888</td>\n",
       "      <td>0.0</td>\n",
       "      <td>9.716230</td>\n",
       "      <td>7.077954</td>\n",
       "      <td>0</td>\n",
       "      <td>0</td>\n",
       "      <td>...</td>\n",
       "      <td>0</td>\n",
       "      <td>0</td>\n",
       "      <td>1</td>\n",
       "      <td>0</td>\n",
       "      <td>0</td>\n",
       "      <td>0</td>\n",
       "      <td>0</td>\n",
       "      <td>0</td>\n",
       "      <td>0</td>\n",
       "      <td>1</td>\n",
       "    </tr>\n",
       "    <tr>\n",
       "      <th>1</th>\n",
       "      <td>2.639057</td>\n",
       "      <td>7.471278</td>\n",
       "      <td>8.798757</td>\n",
       "      <td>9.615872</td>\n",
       "      <td>5.308268</td>\n",
       "      <td>0.0</td>\n",
       "      <td>9.919705</td>\n",
       "      <td>6.742786</td>\n",
       "      <td>0</td>\n",
       "      <td>0</td>\n",
       "      <td>...</td>\n",
       "      <td>0</td>\n",
       "      <td>0</td>\n",
       "      <td>1</td>\n",
       "      <td>0</td>\n",
       "      <td>0</td>\n",
       "      <td>0</td>\n",
       "      <td>0</td>\n",
       "      <td>0</td>\n",
       "      <td>1</td>\n",
       "      <td>0</td>\n",
       "    </tr>\n",
       "    <tr>\n",
       "      <th>2</th>\n",
       "      <td>2.890372</td>\n",
       "      <td>9.138008</td>\n",
       "      <td>7.719130</td>\n",
       "      <td>10.438547</td>\n",
       "      <td>10.993748</td>\n",
       "      <td>0.0</td>\n",
       "      <td>11.891449</td>\n",
       "      <td>7.080102</td>\n",
       "      <td>0</td>\n",
       "      <td>0</td>\n",
       "      <td>...</td>\n",
       "      <td>0</td>\n",
       "      <td>0</td>\n",
       "      <td>1</td>\n",
       "      <td>0</td>\n",
       "      <td>0</td>\n",
       "      <td>0</td>\n",
       "      <td>0</td>\n",
       "      <td>0</td>\n",
       "      <td>1</td>\n",
       "      <td>0</td>\n",
       "    </tr>\n",
       "    <tr>\n",
       "      <th>3</th>\n",
       "      <td>1.945910</td>\n",
       "      <td>6.216985</td>\n",
       "      <td>0.000000</td>\n",
       "      <td>7.048386</td>\n",
       "      <td>6.621406</td>\n",
       "      <td>0.0</td>\n",
       "      <td>8.007074</td>\n",
       "      <td>5.929961</td>\n",
       "      <td>0</td>\n",
       "      <td>0</td>\n",
       "      <td>...</td>\n",
       "      <td>0</td>\n",
       "      <td>0</td>\n",
       "      <td>0</td>\n",
       "      <td>0</td>\n",
       "      <td>0</td>\n",
       "      <td>0</td>\n",
       "      <td>0</td>\n",
       "      <td>0</td>\n",
       "      <td>0</td>\n",
       "      <td>1</td>\n",
       "    </tr>\n",
       "    <tr>\n",
       "      <th>4</th>\n",
       "      <td>3.891820</td>\n",
       "      <td>7.822945</td>\n",
       "      <td>0.000000</td>\n",
       "      <td>10.837206</td>\n",
       "      <td>11.141035</td>\n",
       "      <td>0.0</td>\n",
       "      <td>11.664939</td>\n",
       "      <td>6.775720</td>\n",
       "      <td>0</td>\n",
       "      <td>0</td>\n",
       "      <td>...</td>\n",
       "      <td>0</td>\n",
       "      <td>0</td>\n",
       "      <td>1</td>\n",
       "      <td>0</td>\n",
       "      <td>0</td>\n",
       "      <td>0</td>\n",
       "      <td>0</td>\n",
       "      <td>0</td>\n",
       "      <td>0</td>\n",
       "      <td>1</td>\n",
       "    </tr>\n",
       "  </tbody>\n",
       "</table>\n",
       "<p>5 rows × 68 columns</p>\n",
       "</div>"
      ],
      "text/plain": [
       "   quantidade_doacoes  media_receita  recursos_de_outros_candidatos.comites  \\\n",
       "0            1.945910       7.925761                               0.000000   \n",
       "1            2.639057       7.471278                               8.798757   \n",
       "2            2.890372       9.138008                               7.719130   \n",
       "3            1.945910       6.216985                               0.000000   \n",
       "4            3.891820       7.822945                               0.000000   \n",
       "\n",
       "   recursos_de_pessoas_fisicas  recursos_proprios  \\\n",
       "0                     9.105091           7.170888   \n",
       "1                     9.615872           5.308268   \n",
       "2                    10.438547          10.993748   \n",
       "3                     7.048386           6.621406   \n",
       "4                    10.837206          11.141035   \n",
       "\n",
       "   recursos_de_partido_politico  total_despesa  media_despesa  uf_AC  uf_AL  \\\n",
       "0                           0.0       9.716230       7.077954      0      0   \n",
       "1                           0.0       9.919705       6.742786      0      0   \n",
       "2                           0.0      11.891449       7.080102      0      0   \n",
       "3                           0.0       8.007074       5.929961      0      0   \n",
       "4                           0.0      11.664939       6.775720      0      0   \n",
       "\n",
       "        ...        partido_PSOL  partido_PSTU  partido_PT  partido_PT do B  \\\n",
       "0       ...                   0             0           1                0   \n",
       "1       ...                   0             0           1                0   \n",
       "2       ...                   0             0           1                0   \n",
       "3       ...                   0             0           0                0   \n",
       "4       ...                   0             0           1                0   \n",
       "\n",
       "   partido_PTB  partido_PTC  partido_PTN  partido_PV  sexo_FEMININO  \\\n",
       "0            0            0            0           0              0   \n",
       "1            0            0            0           0              1   \n",
       "2            0            0            0           0              1   \n",
       "3            0            0            0           0              0   \n",
       "4            0            0            0           0              0   \n",
       "\n",
       "   sexo_MASCULINO  \n",
       "0               1  \n",
       "1               0  \n",
       "2               0  \n",
       "3               1  \n",
       "4               1  \n",
       "\n",
       "[5 rows x 68 columns]"
      ]
     },
     "execution_count": 90,
     "metadata": {},
     "output_type": "execute_result"
    }
   ],
   "source": [
    "train_X.head()"
   ]
  },
  {
   "cell_type": "code",
   "execution_count": 91,
   "metadata": {},
   "outputs": [
    {
     "data": {
      "text/html": [
       "<div>\n",
       "<style scoped>\n",
       "    .dataframe tbody tr th:only-of-type {\n",
       "        vertical-align: middle;\n",
       "    }\n",
       "\n",
       "    .dataframe tbody tr th {\n",
       "        vertical-align: top;\n",
       "    }\n",
       "\n",
       "    .dataframe thead th {\n",
       "        text-align: right;\n",
       "    }\n",
       "</style>\n",
       "<table border=\"1\" class=\"dataframe\">\n",
       "  <thead>\n",
       "    <tr style=\"text-align: right;\">\n",
       "      <th></th>\n",
       "      <th>situacao</th>\n",
       "    </tr>\n",
       "  </thead>\n",
       "  <tbody>\n",
       "    <tr>\n",
       "      <th>0</th>\n",
       "      <td>nao_eleito</td>\n",
       "    </tr>\n",
       "    <tr>\n",
       "      <th>1</th>\n",
       "      <td>nao_eleito</td>\n",
       "    </tr>\n",
       "    <tr>\n",
       "      <th>2</th>\n",
       "      <td>eleito</td>\n",
       "    </tr>\n",
       "    <tr>\n",
       "      <th>3</th>\n",
       "      <td>nao_eleito</td>\n",
       "    </tr>\n",
       "    <tr>\n",
       "      <th>4</th>\n",
       "      <td>eleito</td>\n",
       "    </tr>\n",
       "  </tbody>\n",
       "</table>\n",
       "</div>"
      ],
      "text/plain": [
       "     situacao\n",
       "0  nao_eleito\n",
       "1  nao_eleito\n",
       "2      eleito\n",
       "3  nao_eleito\n",
       "4      eleito"
      ]
     },
     "execution_count": 91,
     "metadata": {},
     "output_type": "execute_result"
    }
   ],
   "source": [
    "train_Y.head()"
   ]
  },
  {
   "cell_type": "code",
   "execution_count": 92,
   "metadata": {},
   "outputs": [
    {
     "data": {
      "text/html": [
       "<div>\n",
       "<style scoped>\n",
       "    .dataframe tbody tr th:only-of-type {\n",
       "        vertical-align: middle;\n",
       "    }\n",
       "\n",
       "    .dataframe tbody tr th {\n",
       "        vertical-align: top;\n",
       "    }\n",
       "\n",
       "    .dataframe thead th {\n",
       "        text-align: right;\n",
       "    }\n",
       "</style>\n",
       "<table border=\"1\" class=\"dataframe\">\n",
       "  <thead>\n",
       "    <tr style=\"text-align: right;\">\n",
       "      <th></th>\n",
       "      <th>quantidade_doacoes</th>\n",
       "      <th>media_receita</th>\n",
       "      <th>recursos_de_outros_candidatos.comites</th>\n",
       "      <th>recursos_de_pessoas_fisicas</th>\n",
       "      <th>recursos_proprios</th>\n",
       "      <th>recursos_de_partido_politico</th>\n",
       "      <th>total_despesa</th>\n",
       "      <th>media_despesa</th>\n",
       "      <th>uf_AC</th>\n",
       "      <th>uf_AL</th>\n",
       "      <th>...</th>\n",
       "      <th>partido_PSOL</th>\n",
       "      <th>partido_PSTU</th>\n",
       "      <th>partido_PT</th>\n",
       "      <th>partido_PT do B</th>\n",
       "      <th>partido_PTB</th>\n",
       "      <th>partido_PTC</th>\n",
       "      <th>partido_PTN</th>\n",
       "      <th>partido_PV</th>\n",
       "      <th>sexo_FEMININO</th>\n",
       "      <th>sexo_MASCULINO</th>\n",
       "    </tr>\n",
       "  </thead>\n",
       "  <tbody>\n",
       "    <tr>\n",
       "      <th>3581</th>\n",
       "      <td>3.610918</td>\n",
       "      <td>9.388784</td>\n",
       "      <td>12.503138</td>\n",
       "      <td>10.975944</td>\n",
       "      <td>11.463068</td>\n",
       "      <td>0.000000</td>\n",
       "      <td>12.852868</td>\n",
       "      <td>8.864023</td>\n",
       "      <td>1</td>\n",
       "      <td>0</td>\n",
       "      <td>...</td>\n",
       "      <td>0</td>\n",
       "      <td>0</td>\n",
       "      <td>0</td>\n",
       "      <td>0</td>\n",
       "      <td>0</td>\n",
       "      <td>0</td>\n",
       "      <td>0</td>\n",
       "      <td>0</td>\n",
       "      <td>1</td>\n",
       "      <td>0</td>\n",
       "    </tr>\n",
       "    <tr>\n",
       "      <th>3582</th>\n",
       "      <td>1.386294</td>\n",
       "      <td>7.754053</td>\n",
       "      <td>0.000000</td>\n",
       "      <td>0.000000</td>\n",
       "      <td>7.313887</td>\n",
       "      <td>0.000000</td>\n",
       "      <td>8.852379</td>\n",
       "      <td>7.754053</td>\n",
       "      <td>1</td>\n",
       "      <td>0</td>\n",
       "      <td>...</td>\n",
       "      <td>0</td>\n",
       "      <td>0</td>\n",
       "      <td>0</td>\n",
       "      <td>0</td>\n",
       "      <td>0</td>\n",
       "      <td>0</td>\n",
       "      <td>0</td>\n",
       "      <td>0</td>\n",
       "      <td>0</td>\n",
       "      <td>1</td>\n",
       "    </tr>\n",
       "    <tr>\n",
       "      <th>3583</th>\n",
       "      <td>1.386294</td>\n",
       "      <td>6.420532</td>\n",
       "      <td>5.673323</td>\n",
       "      <td>7.313887</td>\n",
       "      <td>3.931826</td>\n",
       "      <td>0.000000</td>\n",
       "      <td>7.518064</td>\n",
       "      <td>6.420532</td>\n",
       "      <td>1</td>\n",
       "      <td>0</td>\n",
       "      <td>...</td>\n",
       "      <td>0</td>\n",
       "      <td>0</td>\n",
       "      <td>0</td>\n",
       "      <td>0</td>\n",
       "      <td>0</td>\n",
       "      <td>0</td>\n",
       "      <td>0</td>\n",
       "      <td>0</td>\n",
       "      <td>0</td>\n",
       "      <td>1</td>\n",
       "    </tr>\n",
       "    <tr>\n",
       "      <th>3584</th>\n",
       "      <td>0.693147</td>\n",
       "      <td>6.089045</td>\n",
       "      <td>6.089045</td>\n",
       "      <td>0.000000</td>\n",
       "      <td>0.000000</td>\n",
       "      <td>0.000000</td>\n",
       "      <td>6.089045</td>\n",
       "      <td>6.089045</td>\n",
       "      <td>1</td>\n",
       "      <td>0</td>\n",
       "      <td>...</td>\n",
       "      <td>0</td>\n",
       "      <td>0</td>\n",
       "      <td>0</td>\n",
       "      <td>0</td>\n",
       "      <td>0</td>\n",
       "      <td>0</td>\n",
       "      <td>0</td>\n",
       "      <td>0</td>\n",
       "      <td>1</td>\n",
       "      <td>0</td>\n",
       "    </tr>\n",
       "    <tr>\n",
       "      <th>3585</th>\n",
       "      <td>2.772589</td>\n",
       "      <td>10.036604</td>\n",
       "      <td>0.000000</td>\n",
       "      <td>8.716208</td>\n",
       "      <td>9.296610</td>\n",
       "      <td>12.466516</td>\n",
       "      <td>12.357414</td>\n",
       "      <td>7.938927</td>\n",
       "      <td>1</td>\n",
       "      <td>0</td>\n",
       "      <td>...</td>\n",
       "      <td>0</td>\n",
       "      <td>0</td>\n",
       "      <td>0</td>\n",
       "      <td>0</td>\n",
       "      <td>0</td>\n",
       "      <td>0</td>\n",
       "      <td>0</td>\n",
       "      <td>0</td>\n",
       "      <td>0</td>\n",
       "      <td>1</td>\n",
       "    </tr>\n",
       "  </tbody>\n",
       "</table>\n",
       "<p>5 rows × 68 columns</p>\n",
       "</div>"
      ],
      "text/plain": [
       "      quantidade_doacoes  media_receita  \\\n",
       "3581            3.610918       9.388784   \n",
       "3582            1.386294       7.754053   \n",
       "3583            1.386294       6.420532   \n",
       "3584            0.693147       6.089045   \n",
       "3585            2.772589      10.036604   \n",
       "\n",
       "      recursos_de_outros_candidatos.comites  recursos_de_pessoas_fisicas  \\\n",
       "3581                              12.503138                    10.975944   \n",
       "3582                               0.000000                     0.000000   \n",
       "3583                               5.673323                     7.313887   \n",
       "3584                               6.089045                     0.000000   \n",
       "3585                               0.000000                     8.716208   \n",
       "\n",
       "      recursos_proprios  recursos_de_partido_politico  total_despesa  \\\n",
       "3581          11.463068                      0.000000      12.852868   \n",
       "3582           7.313887                      0.000000       8.852379   \n",
       "3583           3.931826                      0.000000       7.518064   \n",
       "3584           0.000000                      0.000000       6.089045   \n",
       "3585           9.296610                     12.466516      12.357414   \n",
       "\n",
       "      media_despesa  uf_AC  uf_AL       ...        partido_PSOL  partido_PSTU  \\\n",
       "3581       8.864023      1      0       ...                   0             0   \n",
       "3582       7.754053      1      0       ...                   0             0   \n",
       "3583       6.420532      1      0       ...                   0             0   \n",
       "3584       6.089045      1      0       ...                   0             0   \n",
       "3585       7.938927      1      0       ...                   0             0   \n",
       "\n",
       "      partido_PT  partido_PT do B  partido_PTB  partido_PTC  partido_PTN  \\\n",
       "3581           0                0            0            0            0   \n",
       "3582           0                0            0            0            0   \n",
       "3583           0                0            0            0            0   \n",
       "3584           0                0            0            0            0   \n",
       "3585           0                0            0            0            0   \n",
       "\n",
       "      partido_PV  sexo_FEMININO  sexo_MASCULINO  \n",
       "3581           0              1               0  \n",
       "3582           0              0               1  \n",
       "3583           0              0               1  \n",
       "3584           0              1               0  \n",
       "3585           0              0               1  \n",
       "\n",
       "[5 rows x 68 columns]"
      ]
     },
     "execution_count": 92,
     "metadata": {},
     "output_type": "execute_result"
    }
   ],
   "source": [
    "validation_X.head()"
   ]
  },
  {
   "cell_type": "code",
   "execution_count": 93,
   "metadata": {},
   "outputs": [
    {
     "data": {
      "text/html": [
       "<div>\n",
       "<style scoped>\n",
       "    .dataframe tbody tr th:only-of-type {\n",
       "        vertical-align: middle;\n",
       "    }\n",
       "\n",
       "    .dataframe tbody tr th {\n",
       "        vertical-align: top;\n",
       "    }\n",
       "\n",
       "    .dataframe thead th {\n",
       "        text-align: right;\n",
       "    }\n",
       "</style>\n",
       "<table border=\"1\" class=\"dataframe\">\n",
       "  <thead>\n",
       "    <tr style=\"text-align: right;\">\n",
       "      <th></th>\n",
       "      <th>situacao</th>\n",
       "    </tr>\n",
       "  </thead>\n",
       "  <tbody>\n",
       "    <tr>\n",
       "      <th>3581</th>\n",
       "      <td>eleito</td>\n",
       "    </tr>\n",
       "    <tr>\n",
       "      <th>3582</th>\n",
       "      <td>nao_eleito</td>\n",
       "    </tr>\n",
       "    <tr>\n",
       "      <th>3583</th>\n",
       "      <td>nao_eleito</td>\n",
       "    </tr>\n",
       "    <tr>\n",
       "      <th>3584</th>\n",
       "      <td>nao_eleito</td>\n",
       "    </tr>\n",
       "    <tr>\n",
       "      <th>3585</th>\n",
       "      <td>eleito</td>\n",
       "    </tr>\n",
       "  </tbody>\n",
       "</table>\n",
       "</div>"
      ],
      "text/plain": [
       "        situacao\n",
       "3581      eleito\n",
       "3582  nao_eleito\n",
       "3583  nao_eleito\n",
       "3584  nao_eleito\n",
       "3585      eleito"
      ]
     },
     "execution_count": 93,
     "metadata": {},
     "output_type": "execute_result"
    }
   ],
   "source": [
    "validation_Y.head()"
   ]
  },
  {
   "cell_type": "markdown",
   "metadata": {},
   "source": [
    "## Label encoding para a variável alvo"
   ]
  },
  {
   "cell_type": "code",
   "execution_count": 95,
   "metadata": {},
   "outputs": [
    {
     "name": "stdout",
     "output_type": "stream",
     "text": [
      "['eleito' 'nao_eleito']\n",
      "[1 1 0 ... 1 1 1]\n",
      "[0 1 1 ... 1 1 1]\n"
     ]
    }
   ],
   "source": [
    "from sklearn import preprocessing\n",
    "#creating labelEncoder\n",
    "le = preprocessing.LabelEncoder()\n",
    "classes = ['nao_eleito', 'eleito']\n",
    "le.fit(classes)\n",
    "print(le.classes_)\n",
    "# Converting string labels into numbers.\n",
    "#nao eleito to 1, eleito to 0\n",
    "train_Y=le.fit_transform(train_Y)\n",
    "print(train_Y)\n",
    "\n",
    "validation_Y=le.fit_transform(validation_Y)\n",
    "print(validation_Y)\n",
    "\n",
    "#se quiser usar label encoding"
   ]
  },
  {
   "cell_type": "markdown",
   "metadata": {},
   "source": [
    "## Imports e funções utilizadas"
   ]
  },
  {
   "cell_type": "code",
   "execution_count": 96,
   "metadata": {},
   "outputs": [],
   "source": [
    "from sklearn.model_selection import cross_val_score\n",
    "from math import sqrt\n",
    "import sklearn.metrics as met"
   ]
  },
  {
   "cell_type": "markdown",
   "metadata": {},
   "source": [
    "# Questão 1\n",
    "Há desbalanceamento das classes (isto é, uma classe tem muito mais instâncias que outra)? Em que proporção? Quais efeitos colaterais o desbalanceamento de classes pode causar no classificador? Como você poderia tratar isso? (1 pt.)"
   ]
  },
  {
   "cell_type": "code",
   "execution_count": 98,
   "metadata": {},
   "outputs": [
    {
     "data": {
      "text/plain": [
       "nao_eleito    6596\n",
       "eleito        1026\n",
       "Name: situacao, dtype: int64"
      ]
     },
     "execution_count": 98,
     "metadata": {},
     "output_type": "execute_result"
    }
   ],
   "source": [
    "train[\"situacao\"].value_counts()"
   ]
  },
  {
   "cell_type": "markdown",
   "metadata": {},
   "source": [
    "Como podemos ver, há sim um desbalanceamento entre as classes como esperado para o tipo de problema (muito mais candidatos não se elegem). As observações com situação \"eleito\" configuram em torno de 15,55% da situação 'nao_eleito\" (ou, aproximadamente, 6:1) e 13,46% do total. \n",
    "Isso pode levar o classificador a ser enviesado pela classe majoritária, levando a predições pobres em relação à classe minoritária, podendo recair no paradoxo de acurácia, em que temos uma alta acurácia do classificador, porém não porque ele acerta muito, mas porque ele \"chuta\" todas as vezes na classe majoritária do train, mas ela também é majoritária no test (como provavelmente é este caso).\n",
    "Poderíamos tratar isso usando oversampling da classe minoritária ou por cópia ou criando amostras sintéticas, usando, por exemplo, SMOTE."
   ]
  },
  {
   "cell_type": "markdown",
   "metadata": {},
   "source": [
    "### Update\n",
    "Ao fazer os testes com resampling para a submissão no kaggle (outro notebook), verifiquei que os resultados usando oversampling com SMOTE (sintético) e com resampling da minoritária são piores, provavelmente porque também no test a classe de eleitos é menor e, ao fazer oversampling no treino, o modelo se condiciona a classificar mais entradas como eleito, sem realmente existirem."
   ]
  },
  {
   "cell_type": "markdown",
   "metadata": {},
   "source": [
    "# Questão 2\n",
    "Treine: um modelo de regressão logística, KNN, uma árvore de decisão e um modelo de adaboost. Tune esses modelos usando validação cruzada e controle overfitting se necessário, considerando as particularidades de cada modelo.  (2 pts.)\n",
    "\n",
    "# Questão 3\n",
    "Reporte Precision, Recall e AUC-Precision&Recall no treino e validação. Há uma grande diferença de desempenho no treino/validação? Como você avalia os resultados? Justifique sua resposta. (2 pt.)\n",
    "\n",
    "# Questão 4\n",
    "Interprete as saídas dos modelos. Quais atributos parecem ser mais importantes de acordo com cada modelo?  (2 pts.)\n",
    "\n",
    "## Apresentarei as respostas das 3 questoes acima para cada modelo separadamente"
   ]
  },
  {
   "cell_type": "markdown",
   "metadata": {},
   "source": [
    "## Regressão Logística"
   ]
  },
  {
   "cell_type": "code",
   "execution_count": 99,
   "metadata": {},
   "outputs": [
    {
     "data": {
      "text/plain": [
       "LogisticRegressionCV(Cs=10, class_weight=None, cv=10, dual=False,\n",
       "           fit_intercept=True, intercept_scaling=1.0, max_iter=100,\n",
       "           multi_class='ovr', n_jobs=1, penalty='l2', random_state=0,\n",
       "           refit=True, scoring=None, solver='lbfgs', tol=0.0001, verbose=0)"
      ]
     },
     "execution_count": 99,
     "metadata": {},
     "output_type": "execute_result"
    }
   ],
   "source": [
    "from sklearn.linear_model import LogisticRegressionCV\n",
    "lr = LogisticRegressionCV(cv=10, random_state=0)\n",
    "lr.fit(train_X, train_Y)"
   ]
  },
  {
   "cell_type": "code",
   "execution_count": 100,
   "metadata": {},
   "outputs": [
    {
     "name": "stdout",
     "output_type": "stream",
     "text": [
      "Coeficientes:  [[-7.61512031e-01 -2.98605340e-01 -2.89965572e-02 -4.48433242e-02\n",
      "   1.89889856e-02  1.39569850e-02 -1.07435662e+00 -4.96496878e-01\n",
      "  -4.56128057e-01 -2.09813336e-01 -1.41706997e-01 -3.00663522e-01\n",
      "  -6.87437472e-01 -4.51372525e-01  7.95196404e-01  5.06102850e-01\n",
      "   6.56519781e-01 -5.67051282e-01  4.44751867e-01  3.78084331e-01\n",
      "   6.95052750e-01 -3.41075691e-01 -6.06461096e-01 -2.35761974e-01\n",
      "  -1.67746730e-02  2.25727835e-02 -1.75319501e-02 -5.40531437e-02\n",
      "  -2.67678034e-01 -7.86113570e-01 -4.20517693e-02  4.73706972e-01\n",
      "  -4.44865124e-01  1.43943697e+00  1.87254821e-01  0.00000000e+00\n",
      "   5.11016284e-02 -4.69086381e-02  1.57766084e-02  8.06619237e-05\n",
      "  -1.59149319e-01  1.87067802e-01 -7.52523004e-02  2.50341491e-01\n",
      "  -5.79452913e-02  1.38963251e-01 -3.76348253e-01  2.12088038e-01\n",
      "   0.00000000e+00 -1.01717122e-01 -1.27220859e-01  1.36187491e-01\n",
      "   4.56874590e-02  1.27362598e-01 -3.93157319e-01  2.32980255e-01\n",
      "   3.91100776e-01  6.79005512e-02 -1.66459035e-01  4.10727260e-02\n",
      "  -1.74591837e-04 -9.75522570e-02  2.25032861e-01 -5.98172173e-01\n",
      "   1.12807267e-01 -6.33549893e-02 -7.30801135e-02  4.52194305e-02]]\n",
      "Valores inversos dos parâmetros de regularização [1.00000000e-04 7.74263683e-04 5.99484250e-03 4.64158883e-02\n",
      " 3.59381366e-01 2.78255940e+00 2.15443469e+01 1.66810054e+02\n",
      " 1.29154967e+03 1.00000000e+04]\n",
      "0.9232058084333985\n",
      "0.9094283593170007\n"
     ]
    }
   ],
   "source": [
    "print(\"Coeficientes: \",lr.coef_)\n",
    "print(\"Valores inversos dos parâmetros de regularização\",lr.Cs_)\n",
    "print(lr.score(train_X, train_Y))\n",
    "print(lr.score(validation_X, validation_Y))"
   ]
  },
  {
   "cell_type": "markdown",
   "metadata": {},
   "source": [
    "#### Nesta versão de Regressão logística do Scikit, já é incluída a cross-validation. A regularização usada é L2 e os valores (inversos) usados na regularização para cada uma das 10-fold estão mostradas acima. "
   ]
  },
  {
   "cell_type": "code",
   "execution_count": 101,
   "metadata": {},
   "outputs": [],
   "source": [
    "#Predict the response for train dataset\n",
    "train_y_pred = lr.predict(train_X)\n",
    "\n",
    "#Predict the response for train dataset\n",
    "validation_y_pred = lr.predict(validation_X)"
   ]
  },
  {
   "cell_type": "code",
   "execution_count": 102,
   "metadata": {},
   "outputs": [
    {
     "name": "stdout",
     "output_type": "stream",
     "text": [
      "Train\n",
      "Acuracy:  0.9232058084333985\n",
      "Precision:  0.9512116316639742\n",
      "Recall:  0.9595827900912647\n",
      "AUC - P&R:  0.9938944570733614\n",
      "Validation\n",
      "Acuracy:  0.9094283593170007\n",
      "Precision:  0.9900805951642901\n",
      "Recall:  0.905328798185941\n",
      "AUC - P&R:  0.9952071522030906\n"
     ]
    }
   ],
   "source": [
    "train_precision = met.precision_score(train_Y, train_y_pred)\n",
    "validation_precision = met.precision_score(validation_Y, validation_y_pred)\n",
    "\n",
    "train_recall = met.recall_score(train_Y, train_y_pred)\n",
    "validation_recall = met.recall_score(validation_Y, validation_y_pred)\n",
    "\n",
    "train_accuracy = met.accuracy_score(train_Y, train_y_pred)\n",
    "validation_accuracy = met.accuracy_score(validation_Y, validation_y_pred)\n",
    "\n",
    "precisions, recalls, thresholds = met.precision_recall_curve(train_Y, lr.predict_proba(train_X)[:,1])\n",
    "train_area = met.auc(recalls, precisions)\n",
    "\n",
    "precisions, recalls, thresholds = met.precision_recall_curve(validation_Y, lr.predict_proba(validation_X)[:,1])\n",
    "validation_area = met.auc(recalls, precisions)\n",
    "\n",
    "print(\"Train\")\n",
    "print(\"Acuracy: \", train_accuracy)\n",
    "print(\"Precision: \", train_precision)\n",
    "print(\"Recall: \", train_recall)\n",
    "print(\"AUC - P&R: \", train_area)\n",
    "\n",
    "print(\"Validation\")\n",
    "print(\"Acuracy: \", validation_accuracy)\n",
    "print(\"Precision: \", validation_precision)\n",
    "print(\"Recall: \", validation_recall)\n",
    "print(\"AUC - P&R: \", validation_area)\n"
   ]
  },
  {
   "cell_type": "markdown",
   "metadata": {},
   "source": [
    "Os resultados são satisfatórios, todos acima de 90% tanto no treino como na validação. A acurácia cai um pouco na validação (em torno de 0,02), o que é esperado. \n",
    "\n",
    "A precisão aumenta (0.04) mostrando que o modelo retorna melhores resultados em termos de fração de itens recuperados que são relevantes, ou seja, a fração de itens que ele classifica como uma classe e realmente pertencem a ela (fração sem falsos positivos). \n",
    "\n",
    "O recall cai em torno de 0.054, mostrando que o modelo falha mais na validação em relação à fração de itens de uma classe que realmente foram classificados como tal (fração sem falsos negativos), mesmo assim, o valor ainda é alto.\n",
    "\n",
    "Area sob a curva P&R aumenta um pouco, em torno de 0.002, mostrando que a variação de precision e recall é bem pequena e que as métricas são igualmente boas para ambos os datasets. \n",
    "\n",
    "Sendo assim, vemos que o modelo traz bons resultados tanto no treino como na validação."
   ]
  },
  {
   "cell_type": "code",
   "execution_count": 153,
   "metadata": {},
   "outputs": [
    {
     "data": {
      "text/plain": [
       "array([[-7.61512031e-01, -2.98605340e-01, -2.89965572e-02,\n",
       "        -4.48433242e-02,  1.89889856e-02,  1.39569850e-02,\n",
       "        -1.07435662e+00, -4.96496878e-01, -4.56128057e-01,\n",
       "        -2.09813336e-01, -1.41706997e-01, -3.00663522e-01,\n",
       "        -6.87437472e-01, -4.51372525e-01,  7.95196404e-01,\n",
       "         5.06102850e-01,  6.56519781e-01, -5.67051282e-01,\n",
       "         4.44751867e-01,  3.78084331e-01,  6.95052750e-01,\n",
       "        -3.41075691e-01, -6.06461096e-01, -2.35761974e-01,\n",
       "        -1.67746730e-02,  2.25727835e-02, -1.75319501e-02,\n",
       "        -5.40531437e-02, -2.67678034e-01, -7.86113570e-01,\n",
       "        -4.20517693e-02,  4.73706972e-01, -4.44865124e-01,\n",
       "         1.43943697e+00,  1.87254821e-01,  0.00000000e+00,\n",
       "         5.11016284e-02, -4.69086381e-02,  1.57766084e-02,\n",
       "         8.06619237e-05, -1.59149319e-01,  1.87067802e-01,\n",
       "        -7.52523004e-02,  2.50341491e-01, -5.79452913e-02,\n",
       "         1.38963251e-01, -3.76348253e-01,  2.12088038e-01,\n",
       "         0.00000000e+00, -1.01717122e-01, -1.27220859e-01,\n",
       "         1.36187491e-01,  4.56874590e-02,  1.27362598e-01,\n",
       "        -3.93157319e-01,  2.32980255e-01,  3.91100776e-01,\n",
       "         6.79005512e-02, -1.66459035e-01,  4.10727260e-02,\n",
       "        -1.74591837e-04, -9.75522570e-02,  2.25032861e-01,\n",
       "        -5.98172173e-01,  1.12807267e-01, -6.33549893e-02,\n",
       "        -7.30801135e-02,  4.52194305e-02]])"
      ]
     },
     "execution_count": 153,
     "metadata": {},
     "output_type": "execute_result"
    }
   ],
   "source": [
    "lr.coef_"
   ]
  },
  {
   "cell_type": "code",
   "execution_count": 154,
   "metadata": {},
   "outputs": [
    {
     "name": "stdout",
     "output_type": "stream",
     "text": [
      "['quantidade_doacoes' 'media_receita'\n",
      " 'recursos_de_outros_candidatos.comites' 'recursos_de_pessoas_fisicas'\n",
      " 'recursos_proprios' 'recursos_de_partido_politico' 'total_despesa'\n",
      " 'media_despesa' 'uf_AC' 'uf_AL' 'uf_AM' 'uf_AP' 'uf_BA' 'uf_CE' 'uf_DF'\n",
      " 'uf_ES' 'uf_GO' 'uf_MA' 'uf_MG' 'uf_MS' 'uf_MT' 'uf_PA' 'uf_PB' 'uf_PE'\n",
      " 'uf_PI' 'uf_PR' 'uf_RJ' 'uf_RN' 'uf_RO' 'uf_RR' 'uf_RS' 'uf_SC' 'uf_SE'\n",
      " 'uf_SP' 'uf_TO' 'partido_DEM' 'partido_PAN' 'partido_PC do B'\n",
      " 'partido_PCB' 'partido_PCO' 'partido_PDT' 'partido_PFL' 'partido_PHS'\n",
      " 'partido_PL' 'partido_PMDB' 'partido_PMN' 'partido_PP' 'partido_PPS'\n",
      " 'partido_PR' 'partido_PRB' 'partido_PRONA' 'partido_PRP' 'partido_PRTB'\n",
      " 'partido_PSB' 'partido_PSC' 'partido_PSDB' 'partido_PSDC' 'partido_PSL'\n",
      " 'partido_PSOL' 'partido_PSTU' 'partido_PT' 'partido_PT do B'\n",
      " 'partido_PTB' 'partido_PTC' 'partido_PTN' 'partido_PV' 'sexo_FEMININO'\n",
      " 'sexo_MASCULINO']\n"
     ]
    }
   ],
   "source": [
    "print(train_X.columns.values)"
   ]
  },
  {
   "cell_type": "markdown",
   "metadata": {},
   "source": [
    "Pelos coeficientes dados aos atributos podemos perceber os atributos de maior importância para este modelo de regressão logística (maiores valores). São eles: total_despesa(-1.07435662e+00) e uf_SP (1.43943697e+00). Aparentemente o valor que se gasta com a campanha impacta no número de votos obtidos e, como o estado de SP tem \"direito\" a mais deputados, os dados tem mais candidatos e mais eleitos no estado, o classificador usa o estado como um indicador de se vai ser eleito ou não. O coeficiente do estado de SP indica que o classificador o utiliza com um pouco mais de \"força\" na hora de decidir. Em geral, este é o modelo dos indicados na questão 2 que apresenta melhores resultados de métricas. "
   ]
  },
  {
   "cell_type": "markdown",
   "metadata": {},
   "source": [
    "## KNN"
   ]
  },
  {
   "cell_type": "code",
   "execution_count": 103,
   "metadata": {},
   "outputs": [
    {
     "name": "stdout",
     "output_type": "stream",
     "text": [
      "Best MSE:  0.0974474217255723\n",
      "Best number of neighbors:  12\n"
     ]
    },
    {
     "data": {
      "image/png": "[encoded data removed]",
      "text/plain": [
       "<Figure size 864x432 with 1 Axes>"
      ]
     },
     "metadata": {},
     "output_type": "display_data"
    }
   ],
   "source": [
    "from sklearn.neighbors import KNeighborsClassifier\n",
    "\n",
    "# creating odd list of K for KNN\n",
    "neighbors = range(2,50)\n",
    "\n",
    "# empty list that will hold cv scores\n",
    "cv_scores = []\n",
    "\n",
    "# perform 10-fold cross validation\n",
    "for k in neighbors:\n",
    "    knn = KNeighborsClassifier(n_neighbors=k)\n",
    "    scores = cross_val_score(knn, train_X, train_Y, cv=10, scoring='accuracy')\n",
    "    cv_scores.append(scores.mean())\n",
    "\n",
    "# changing to misclassification error\n",
    "MSE = [1 - x for x in cv_scores]\n",
    "\n",
    "# determining best k\n",
    "series_knn = pd.Series(MSE, index = neighbors)\n",
    "print('Best MSE: ',series_knn.min())\n",
    "print('Best number of neighbors: ',series_knn.values.argmin())\n",
    "\n",
    "# plot misclassification error vs k\n",
    "plt.plot(neighbors, MSE)\n",
    "plt.xlabel('Number of Neighbors K')\n",
    "plt.ylabel('Misclassification Error')\n",
    "plt.show()\n"
   ]
  },
  {
   "cell_type": "markdown",
   "metadata": {},
   "source": [
    "#### O parâmetro a ser \"tunado\" no KNN é o número de vizinhos. Através de crossvalidation, obtivemos um número ótimo de 12 vizinhos apresentando o menor MSE (0.097). No KNN, o controle de overfitting é realizado escolhendo um número não tão pequeno de vizinhos, evitando que a predição seja realizada apenas por vizinhos que compõem ruído. Valores muito grandes de vizinhos também devem ser evitados para não ocorrer uma simplificação excessiva do modelo, perdendo alguns dados importantes. Considerei o valor 12 um número razoável para esta etapa."
   ]
  },
  {
   "cell_type": "code",
   "execution_count": 104,
   "metadata": {},
   "outputs": [],
   "source": [
    "#criando o knn com 12 vizinhos\n",
    "knn = KNeighborsClassifier(n_neighbors=12)\n",
    "\n",
    "#Train the model using the training sets\n",
    "knn.fit(train_X, train_Y)\n",
    "\n",
    "#Predict the response for train dataset\n",
    "train_y_pred = knn.predict(train_X)\n",
    "\n",
    "#Predict the response for train dataset\n",
    "validation_y_pred = knn.predict(validation_X)"
   ]
  },
  {
   "cell_type": "code",
   "execution_count": 105,
   "metadata": {},
   "outputs": [
    {
     "name": "stdout",
     "output_type": "stream",
     "text": [
      "Train\n",
      "Acuracy:  0.9209717955878246\n",
      "Precision:  0.9499192245557351\n",
      "Recall:  0.9582790091264668\n",
      "AUC - P&R:  0.9940379233339725\n",
      "Validation\n",
      "Acuracy:  0.9037366988369215\n",
      "Precision:  0.9783602560195063\n",
      "Recall:  0.9098639455782312\n",
      "AUC - P&R:  0.9922197538189337\n"
     ]
    }
   ],
   "source": [
    "#Calculating Precision, Recall and AUC-recision-recall for train and validation\n",
    "train_precision = met.precision_score(train_Y, train_y_pred)\n",
    "validation_precision = met.precision_score(validation_Y, validation_y_pred)\n",
    "\n",
    "train_recall = met.recall_score(train_Y, train_y_pred)\n",
    "validation_recall = met.recall_score(validation_Y, validation_y_pred)\n",
    "\n",
    "train_accuracy = met.accuracy_score(train_Y, train_y_pred)\n",
    "validation_accuracy = met.accuracy_score(validation_Y, validation_y_pred)\n",
    "\n",
    "precisions, recalls, thresholds = met.precision_recall_curve(train_Y, knn.predict_proba(train_X)[:,1])\n",
    "train_area = met.auc(recalls, precisions)\n",
    "\n",
    "precisions, recalls, thresholds = met.precision_recall_curve(validation_Y, knn.predict_proba(validation_X)[:,1])\n",
    "validation_area = met.auc(recalls, precisions)\n",
    "\n",
    "print(\"Train\")\n",
    "print(\"Acuracy: \", train_accuracy)\n",
    "print(\"Precision: \", train_precision)\n",
    "print(\"Recall: \", train_recall)\n",
    "print(\"AUC - P&R: \", train_area)\n",
    "\n",
    "print(\"Validation\")\n",
    "print(\"Acuracy: \", validation_accuracy)\n",
    "print(\"Precision: \", validation_precision)\n",
    "print(\"Recall: \", validation_recall)\n",
    "print(\"AUC - P&R: \", validation_area)\n"
   ]
  },
  {
   "cell_type": "markdown",
   "metadata": {},
   "source": [
    "Não há grande diferença nos resultados entre treino e validação, pois a acurácia só cai 0,02, mostrando que o modelo treinado também acerta muito na validação. \n",
    "\n",
    "A precisão aumenta 0.028, mostrando que o modelo retorna melhores resultados em termos de fração de itens recuperados que são relevantes, ou seja, a fração de itens que ele classifica como uma classe e realmente pertencem a ela (fração sem falsos positivos).\n",
    "\n",
    "O recall cai em torno de 0.05, mostrando que o modelo falha mais na validação em relação à fração de itens de uma classe que realmente foram classificados como tal (fração sem falsos negativos), mesmo assim, o valor ainda é alto.\n",
    "\n",
    "A área sob a curva P&R cai muito pouco, em torno de 0.002, mostrando que a variação de precision e recall entre os dois datasets não é relevante de forma a invalidar o modelo.\n",
    "\n",
    "Sendo assim, vemos que o modelo traz bons resultados tanto no treino como na validação, com todas as métricas reportadas tendo valores maiores que 90%."
   ]
  },
  {
   "cell_type": "markdown",
   "metadata": {},
   "source": [
    "## Árvore de Decisão"
   ]
  },
  {
   "cell_type": "code",
   "execution_count": 118,
   "metadata": {},
   "outputs": [
    {
     "name": "stdout",
     "output_type": "stream",
     "text": [
      "Best MSE:  0.09659772687338575\n",
      "Best max depth:  2\n"
     ]
    },
    {
     "data": {
      "image/png": "[encoded data removed]",
      "text/plain": [
       "<Figure size 864x432 with 1 Axes>"
      ]
     },
     "metadata": {},
     "output_type": "display_data"
    }
   ],
   "source": [
    "from sklearn.tree import DecisionTreeClassifier \n",
    "\n",
    "max_depth = range(2,10)\n",
    "\n",
    "# empty list that will hold cv scores\n",
    "cv_scores = []\n",
    "\n",
    "# perform 10-fold cross validation\n",
    "for k in max_depth:\n",
    "    dt = DecisionTreeClassifier(max_depth=k)\n",
    "    scores = cross_val_score(dt, train_X, train_Y, cv=10, scoring='accuracy')\n",
    "    cv_scores.append(scores.mean())\n",
    "\n",
    "# changing to misclassification error\n",
    "MSE = [1 - x for x in cv_scores]\n",
    "\n",
    "# determining best k\n",
    "series_dt = pd.Series(MSE, index = max_depth)\n",
    "print('Best MSE: ',series_dt.min())\n",
    "print('Best max depth: ',series_dt.values.argmin()) #índice do melhor valor\n",
    "\n",
    "# plot misclassification error vs k\n",
    "plt.plot(max_depth, MSE)\n",
    "plt.xlabel('Max Depth')\n",
    "plt.ylabel('Misclassification Error')\n",
    "plt.show()"
   ]
  },
  {
   "cell_type": "code",
   "execution_count": 114,
   "metadata": {},
   "outputs": [
    {
     "name": "stdout",
     "output_type": "stream",
     "text": [
      "Best MSE:  0.09713534314303052\n",
      "Best min impurity:  2\n"
     ]
    },
    {
     "data": {
      "image/png": "[encoded data removed]",
      "text/plain": [
       "<Figure size 864x432 with 1 Axes>"
      ]
     },
     "metadata": {},
     "output_type": "display_data"
    }
   ],
   "source": [
    "min_impurity = [0.0001, 0.001, 0.002, 0.005, 0.05, 0.01]\n",
    "cv_scores = []\n",
    "\n",
    "# perform 10-fold cross validation\n",
    "for k in min_impurity:\n",
    "    dt = DecisionTreeClassifier(min_impurity_decrease=k)\n",
    "    scores = cross_val_score(dt, train_X, train_Y, cv=10, scoring='accuracy')\n",
    "    cv_scores.append(scores.mean())\n",
    "\n",
    "# changing to misclassification error\n",
    "MSE = [1 - x for x in cv_scores]\n",
    "\n",
    "# determining best k\n",
    "series_dt = pd.Series(MSE, index = min_impurity)\n",
    "print('Best MSE: ',series_dt.min())\n",
    "print('Best min impurity: ',series_dt.values.argmin()) #índice do melhor valor\n",
    "\n",
    "# plot misclassification error vs k\n",
    "plt.plot(min_impurity, MSE)\n",
    "plt.xlabel('Min Impurity')\n",
    "plt.ylabel('Misclassification Error')\n",
    "plt.show()"
   ]
  },
  {
   "cell_type": "markdown",
   "metadata": {},
   "source": [
    "#### Para controlar o overfitting em árvores, pode-se trabalhar com uma profundidade máxima e com uma queda mínima de erro. Para isso, avaliamos alguns valores para esses dois parâmetros usando cross-validação, obtendo max_depth = 4 e min_impurity = 0.002."
   ]
  },
  {
   "cell_type": "code",
   "execution_count": 124,
   "metadata": {},
   "outputs": [],
   "source": [
    "dt = DecisionTreeClassifier(max_depth=4, min_impurity_decrease=0.002)\n",
    "dt.fit(train_X, train_Y)\n",
    "#Predict the response for train dataset\n",
    "train_y_pred = dt.predict(train_X)\n",
    "\n",
    "#Predict the response for train dataset\n",
    "validation_y_pred = dt.predict(validation_X)\n"
   ]
  },
  {
   "cell_type": "code",
   "execution_count": 125,
   "metadata": {},
   "outputs": [
    {
     "name": "stdout",
     "output_type": "stream",
     "text": [
      "Train\n",
      "Acuracy:  0.9162245182909802\n",
      "Precision:  0.9653665097511769\n",
      "Recall:  0.9357887874837028\n",
      "AUC - P&R:  0.988164357516852\n",
      "Validation\n",
      "Acuracy:  0.8938381588715665\n",
      "Precision:  0.9889555064689176\n",
      "Recall:  0.8883219954648526\n",
      "AUC - P&R:  0.9926522228529939\n"
     ]
    }
   ],
   "source": [
    "#Calculating Precision, Recall and AUC-recision-recall for train and validation\n",
    "train_precision = met.precision_score(train_Y, train_y_pred)\n",
    "validation_precision = met.precision_score(validation_Y, validation_y_pred)\n",
    "\n",
    "train_recall = met.recall_score(train_Y, train_y_pred)\n",
    "validation_recall = met.recall_score(validation_Y, validation_y_pred)\n",
    "\n",
    "train_accuracy = met.accuracy_score(train_Y, train_y_pred)\n",
    "validation_accuracy = met.accuracy_score(validation_Y, validation_y_pred)\n",
    "\n",
    "precisions, recalls, thresholds = met.precision_recall_curve(train_Y, dt.predict_proba(train_X)[:,1])\n",
    "train_area = met.auc(recalls, precisions)\n",
    "\n",
    "precisions, recalls, thresholds = met.precision_recall_curve(validation_Y, dt.predict_proba(validation_X)[:,1])\n",
    "validation_area = met.auc(recalls, precisions)\n",
    "\n",
    "print(\"Train\")\n",
    "print(\"Acuracy: \", train_accuracy)\n",
    "print(\"Precision: \", train_precision)\n",
    "print(\"Recall: \", train_recall)\n",
    "print(\"AUC - P&R: \", train_area)\n",
    "\n",
    "print(\"Validation\")\n",
    "print(\"Acuracy: \", validation_accuracy)\n",
    "print(\"Precision: \", validation_precision)\n",
    "print(\"Recall: \", validation_recall)\n",
    "print(\"AUC - P&R: \", validation_area)\n"
   ]
  },
  {
   "cell_type": "markdown",
   "metadata": {},
   "source": [
    "Os resultados são satisfatórios, todos de no mínimo 88% tanto no treino como na validação. A acurácia cai um pouco na validação (em torno de 0,02), o que é esperado.\n",
    "\n",
    "A precisão aumenta (0.02) mostrando que o modelo retorna resultados com ainda menos sem falsos positivos.\n",
    "\n",
    "O recall cai em torno de 0.05, mostrando que o modelo retorna amis falsos negativos na validação que no treino, mesmo assim, o valor ainda é considerado alto.\n",
    "\n",
    "Area sob a curva P&R aumenta um pouco, em torno de 0.004, mostrando que a variação de precision e recall é bem pequena e que as métricas são igualmente boas para ambos os datasets.\n",
    "\n",
    "Sendo assim, vemos que o modelo traz bons resultados tanto no treino como na validação. Porém, dentre os modelos já apresentados, é o que tem o pior resultado."
   ]
  },
  {
   "cell_type": "code",
   "execution_count": 146,
   "metadata": {},
   "outputs": [
    {
     "data": {
      "text/plain": [
       "array([0.        , 0.        , 0.        , 0.        , 0.        ,\n",
       "       0.        , 0.97155716, 0.        , 0.        , 0.        ,\n",
       "       0.        , 0.        , 0.        , 0.        , 0.        ,\n",
       "       0.        , 0.        , 0.        , 0.        , 0.        ,\n",
       "       0.        , 0.        , 0.        , 0.        , 0.        ,\n",
       "       0.        , 0.        , 0.        , 0.        , 0.        ,\n",
       "       0.        , 0.        , 0.        , 0.02844284, 0.        ,\n",
       "       0.        , 0.        , 0.        , 0.        , 0.        ,\n",
       "       0.        , 0.        , 0.        , 0.        , 0.        ,\n",
       "       0.        , 0.        , 0.        , 0.        , 0.        ,\n",
       "       0.        , 0.        , 0.        , 0.        , 0.        ,\n",
       "       0.        , 0.        , 0.        , 0.        , 0.        ,\n",
       "       0.        , 0.        , 0.        , 0.        , 0.        ,\n",
       "       0.        , 0.        , 0.        ])"
      ]
     },
     "execution_count": 146,
     "metadata": {},
     "output_type": "execute_result"
    }
   ],
   "source": [
    "dt.feature_importances_"
   ]
  },
  {
   "cell_type": "code",
   "execution_count": 148,
   "metadata": {},
   "outputs": [
    {
     "name": "stdout",
     "output_type": "stream",
     "text": [
      "['quantidade_doacoes' 'media_receita'\n",
      " 'recursos_de_outros_candidatos.comites' 'recursos_de_pessoas_fisicas'\n",
      " 'recursos_proprios' 'recursos_de_partido_politico' 'total_despesa'\n",
      " 'media_despesa' 'uf_AC' 'uf_AL' 'uf_AM' 'uf_AP' 'uf_BA' 'uf_CE' 'uf_DF'\n",
      " 'uf_ES' 'uf_GO' 'uf_MA' 'uf_MG' 'uf_MS' 'uf_MT' 'uf_PA' 'uf_PB' 'uf_PE'\n",
      " 'uf_PI' 'uf_PR' 'uf_RJ' 'uf_RN' 'uf_RO' 'uf_RR' 'uf_RS' 'uf_SC' 'uf_SE'\n",
      " 'uf_SP' 'uf_TO' 'partido_DEM' 'partido_PAN' 'partido_PC do B'\n",
      " 'partido_PCB' 'partido_PCO' 'partido_PDT' 'partido_PFL' 'partido_PHS'\n",
      " 'partido_PL' 'partido_PMDB' 'partido_PMN' 'partido_PP' 'partido_PPS'\n",
      " 'partido_PR' 'partido_PRB' 'partido_PRONA' 'partido_PRP' 'partido_PRTB'\n",
      " 'partido_PSB' 'partido_PSC' 'partido_PSDB' 'partido_PSDC' 'partido_PSL'\n",
      " 'partido_PSOL' 'partido_PSTU' 'partido_PT' 'partido_PT do B'\n",
      " 'partido_PTB' 'partido_PTC' 'partido_PTN' 'partido_PV' 'sexo_FEMININO'\n",
      " 'sexo_MASCULINO']\n"
     ]
    }
   ],
   "source": [
    "print(train_X.columns.values)"
   ]
  },
  {
   "cell_type": "markdown",
   "metadata": {},
   "source": [
    "Os atributos decisivos para o Decision Tree são total_despesa (0.97155716, de importância bem majoritária) e uf_SP(0.02844284). Aparentemente o valor que se gasta com a campanha impacta no número de votos e, como o estado de SP tem \"direito\" a mais deputados, os dados tem mais candidatos e mais eleitos no estado, o classificador usa o estado como um indicador de se vai ser eleito ou não."
   ]
  },
  {
   "cell_type": "markdown",
   "metadata": {},
   "source": [
    "## Adaboost"
   ]
  },
  {
   "cell_type": "code",
   "execution_count": 143,
   "metadata": {},
   "outputs": [
    {
     "name": "stdout",
     "output_type": "stream",
     "text": [
      "Best MSE:  0.09436308128392878\n",
      "Best Num estimators:  7\n"
     ]
    },
    {
     "data": {
      "image/png": "[encoded data removed]",
      "text/plain": [
       "<Figure size 864x432 with 1 Axes>"
      ]
     },
     "metadata": {},
     "output_type": "display_data"
    }
   ],
   "source": [
    "from sklearn.ensemble import AdaBoostClassifier\n",
    "                                    \n",
    "n_estimators = range(1,9)\n",
    "\n",
    "# empty list that will hold cv scores\n",
    "cv_scores = []\n",
    "\n",
    "# perform 10-fold cross validation\n",
    "for k in max_depth:\n",
    "    ab = AdaBoostClassifier(n_estimators=k,  learning_rate=0.1)\n",
    "    scores = cross_val_score(ab, train_X, train_Y, cv=10, scoring='accuracy')\n",
    "    cv_scores.append(scores.mean())\n",
    "\n",
    "# changing to misclassification error\n",
    "MSE = [1 - x for x in cv_scores]\n",
    "\n",
    "# determining best k\n",
    "series_ab = pd.Series(MSE, index = n_estimators)\n",
    "print('Best MSE: ',series_ab.min())\n",
    "print('Best Num estimators: ',series_ab.values.argmin()) #índice do melhor valor\n",
    "\n",
    "# plot misclassification error vs k\n",
    "plt.plot(n_estimators, MSE)\n",
    "plt.xlabel('Num Estimators')\n",
    "plt.ylabel('Misclassification Error')\n",
    "plt.show()"
   ]
  },
  {
   "cell_type": "markdown",
   "metadata": {},
   "source": [
    "###### Apesar do Adaboost ser resistente a overfitting, ele ainda pode sofrer com esse problema, e para evitá-lo, é necessário controlar o número de classificadores utilizados. No caso desta implementação do Scikit o modelo termina com um máximo de 8 classificadores, então testamos qual número retorna menor erro através de cross-validation, obtendo o valor de 8 classificadores (usando DecisionTrees de max_depth=1, o default)."
   ]
  },
  {
   "cell_type": "code",
   "execution_count": 144,
   "metadata": {},
   "outputs": [],
   "source": [
    "ab =  AdaBoostClassifier(n_estimators=8,  learning_rate=0.1)\n",
    "ab.fit(train_X, train_Y)\n",
    "#Predict the response for train dataset\n",
    "train_y_pred = ab.predict(train_X)\n",
    "\n",
    "#Predict the response for train dataset\n",
    "validation_y_pred = ab.predict(validation_X)"
   ]
  },
  {
   "cell_type": "code",
   "execution_count": 145,
   "metadata": {},
   "outputs": [
    {
     "name": "stdout",
     "output_type": "stream",
     "text": [
      "Train\n",
      "Acuracy:  0.905892208880201\n",
      "Precision:  0.9684391080617496\n",
      "Recall:  0.9201434159061278\n",
      "AUC - P&R:  0.990165436460623\n",
      "Validation\n",
      "Acuracy:  0.8812175204157386\n",
      "Precision:  0.9906632324533161\n",
      "Recall:  0.8721655328798186\n",
      "AUC - P&R:  0.9907997766767443\n"
     ]
    }
   ],
   "source": [
    "#Calculating Precision, Recall and AUC-recision-recall for train and validation\n",
    "train_precision = met.precision_score(train_Y, train_y_pred)\n",
    "validation_precision = met.precision_score(validation_Y, validation_y_pred)\n",
    "\n",
    "train_recall = met.recall_score(train_Y, train_y_pred)\n",
    "validation_recall = met.recall_score(validation_Y, validation_y_pred)\n",
    "\n",
    "train_accuracy = met.accuracy_score(train_Y, train_y_pred)\n",
    "validation_accuracy = met.accuracy_score(validation_Y, validation_y_pred)\n",
    "\n",
    "precisions, recalls, thresholds = met.precision_recall_curve(train_Y, ab.predict_proba(train_X)[:,1])\n",
    "train_area = met.auc(recalls, precisions)\n",
    "\n",
    "precisions, recalls, thresholds = met.precision_recall_curve(validation_Y, ab.predict_proba(validation_X)[:,1])\n",
    "validation_area = met.auc(recalls, precisions)\n",
    "\n",
    "print(\"Train\")\n",
    "print(\"Acuracy: \", train_accuracy)\n",
    "print(\"Precision: \", train_precision)\n",
    "print(\"Recall: \", train_recall)\n",
    "print(\"AUC - P&R: \", train_area)\n",
    "\n",
    "print(\"Validation\")\n",
    "print(\"Acuracy: \", validation_accuracy)\n",
    "print(\"Precision: \", validation_precision)\n",
    "print(\"Recall: \", validation_recall)\n",
    "print(\"AUC - P&R: \", validation_area)"
   ]
  },
  {
   "cell_type": "markdown",
   "metadata": {},
   "source": [
    "Os resultados são satisfatórios, todos de no mínimo 87% tanto no treino como na validação, mas começam a cair em relação aos demais. A acurácia cai um pouco na validação (em torno de 0,02), o que é esperado.\n",
    "\n",
    "A precisão aumenta (0.02) mostrando que o modelo retorna resultados com ainda menos sem falsos positivos.\n",
    "\n",
    "O recall cai em torno de 0.05, mostrando que o modelo retorna mais falsos negativos na validação que no treino, mesmo assim, o valor ainda é considerado alto.\n",
    "\n",
    "Area sob a curva P&R é quase igual mostrando que a variação de precision e recall é bem pequena e que as métricas são igualmente boas para ambos os datasets.\n",
    "\n",
    "Sendo assim, vemos que o modelo traz bons resultados tanto no treino como na validação. Porém, dentre os modelos já apresentados, é o que tem o pior resultado na maioria das métricas, porém tem a melhor precisão tanto no train como no validtion."
   ]
  },
  {
   "cell_type": "code",
   "execution_count": 150,
   "metadata": {},
   "outputs": [
    {
     "data": {
      "text/plain": [
       "array([0., 0., 0., 0., 0., 0., 1., 0., 0., 0., 0., 0., 0., 0., 0., 0., 0.,\n",
       "       0., 0., 0., 0., 0., 0., 0., 0., 0., 0., 0., 0., 0., 0., 0., 0., 0.,\n",
       "       0., 0., 0., 0., 0., 0., 0., 0., 0., 0., 0., 0., 0., 0., 0., 0., 0.,\n",
       "       0., 0., 0., 0., 0., 0., 0., 0., 0., 0., 0., 0., 0., 0., 0., 0., 0.])"
      ]
     },
     "execution_count": 150,
     "metadata": {},
     "output_type": "execute_result"
    }
   ],
   "source": [
    "ab.feature_importances_"
   ]
  },
  {
   "cell_type": "code",
   "execution_count": 151,
   "metadata": {},
   "outputs": [
    {
     "name": "stdout",
     "output_type": "stream",
     "text": [
      "['quantidade_doacoes' 'media_receita'\n",
      " 'recursos_de_outros_candidatos.comites' 'recursos_de_pessoas_fisicas'\n",
      " 'recursos_proprios' 'recursos_de_partido_politico' 'total_despesa'\n",
      " 'media_despesa' 'uf_AC' 'uf_AL' 'uf_AM' 'uf_AP' 'uf_BA' 'uf_CE' 'uf_DF'\n",
      " 'uf_ES' 'uf_GO' 'uf_MA' 'uf_MG' 'uf_MS' 'uf_MT' 'uf_PA' 'uf_PB' 'uf_PE'\n",
      " 'uf_PI' 'uf_PR' 'uf_RJ' 'uf_RN' 'uf_RO' 'uf_RR' 'uf_RS' 'uf_SC' 'uf_SE'\n",
      " 'uf_SP' 'uf_TO' 'partido_DEM' 'partido_PAN' 'partido_PC do B'\n",
      " 'partido_PCB' 'partido_PCO' 'partido_PDT' 'partido_PFL' 'partido_PHS'\n",
      " 'partido_PL' 'partido_PMDB' 'partido_PMN' 'partido_PP' 'partido_PPS'\n",
      " 'partido_PR' 'partido_PRB' 'partido_PRONA' 'partido_PRP' 'partido_PRTB'\n",
      " 'partido_PSB' 'partido_PSC' 'partido_PSDB' 'partido_PSDC' 'partido_PSL'\n",
      " 'partido_PSOL' 'partido_PSTU' 'partido_PT' 'partido_PT do B'\n",
      " 'partido_PTB' 'partido_PTC' 'partido_PTN' 'partido_PV' 'sexo_FEMININO'\n",
      " 'sexo_MASCULINO']\n"
     ]
    }
   ],
   "source": [
    "print(train_X.columns.values)"
   ]
  },
  {
   "cell_type": "markdown",
   "metadata": {},
   "source": [
    "O adaboost apenas está considerando o total_despesa em sua classificação."
   ]
  },
  {
   "cell_type": "markdown",
   "metadata": {},
   "source": [
    "# Questão 5\n",
    "Foram feitas as submissões baseadas em modelos gerados em outros notebooks. O melhor modelo obtido foi gerado pelo LogisticRegressorCV com cv=10.\n",
    "Disponível em: https://github.com/larissalucena/machinelearning/blob/master/Melhor%20modelo%20obtido%20para%20o%20Kaggle.ipynb\n"
   ]
  },
  {
   "cell_type": "code",
   "execution_count": null,
   "metadata": {},
   "outputs": [],
   "source": []
  }
 ],
 "metadata": {
  "kernelspec": {
   "display_name": "Python 3",
   "language": "python",
   "name": "python3"
  },
  "language_info": {
   "codemirror_mode": {
    "name": "ipython",
    "version": 3
   },
   "file_extension": ".py",
   "mimetype": "text/x-python",
   "name": "python",
   "nbconvert_exporter": "python",
   "pygments_lexer": "ipython3",
   "version": "3.6.5"
  }
 },
 "nbformat": 4,
 "nbformat_minor": 2
}
